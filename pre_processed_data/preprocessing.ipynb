{
 "cells": [
  {
   "cell_type": "code",
   "execution_count": 232,
   "metadata": {},
   "outputs": [],
   "source": [
    "import numpy as np\n",
    "import pandas as pd\n",
    "import matplotlib.pyplot as plt\n",
    "import seaborn as sns\n",
    "import json\n",
    "import sklearn\n",
    "from sklearn.model_selection import train_test_split\n",
    "# import dask.dataframe as dd\n",
    "from warnings import filterwarnings\n",
    "filterwarnings('ignore')"
   ]
  },
  {
   "cell_type": "markdown",
   "metadata": {},
   "source": [
    "### Loading the data"
   ]
  },
  {
   "cell_type": "code",
   "execution_count": 22,
   "metadata": {},
   "outputs": [
    {
     "name": "stdout",
     "output_type": "stream",
     "text": [
      "Business DataFrame: (150346, 14)\n",
      "Checkin DataFrame: (131930, 2)\n",
      "Tip DataFrame: (908915, 5)\n",
      "User DataFrame: (1987897, 22)\n",
      "Review DataFrame: (6990280, 9)\n"
     ]
    }
   ],
   "source": [
    "\n",
    "df_business = pd.DataFrame(pd.read_json(r'.//yelp_dataset//yelp_academic_dataset_business.json', lines=True))\n",
    "print(\"Business DataFrame:\", df_business.shape)\n",
    "\n",
    "df_checkin = pd.DataFrame(pd.read_json(r'.//yelp_dataset//yelp_academic_dataset_checkin.json', lines=True))\n",
    "print(\"Checkin DataFrame:\", df_checkin.shape)\n",
    "\n",
    "df_tip = pd.DataFrame(pd.read_json(r'.//yelp_dataset//yelp_academic_dataset_tip.json', lines=True))\n",
    "print(\"Tip DataFrame:\", df_tip.shape)\n",
    "\n",
    "df_user = pd.DataFrame(pd.read_json(r'.//yelp_dataset//yelp_academic_dataset_user.json', lines=True))\n",
    "print(\"User DataFrame:\", df_user.shape)\n",
    "\n",
    "size = 10000\n",
    "review_file_path = r'.//yelp_dataset//yelp_academic_dataset_review.json'\n",
    "review_chunks = pd.read_json(review_file_path, lines=True, chunksize=size)\n",
    "df_review = pd.concat(review_chunks, ignore_index=True)\n",
    "print(\"Review DataFrame:\", df_review.shape)\n",
    "\n",
    "\n"
   ]
  },
  {
   "cell_type": "markdown",
   "metadata": {},
   "source": [
    "### Preprocessing Review Table"
   ]
  },
  {
   "cell_type": "code",
   "execution_count": 23,
   "metadata": {},
   "outputs": [
    {
     "data": {
      "text/html": [
       "<div>\n",
       "<style scoped>\n",
       "    .dataframe tbody tr th:only-of-type {\n",
       "        vertical-align: middle;\n",
       "    }\n",
       "\n",
       "    .dataframe tbody tr th {\n",
       "        vertical-align: top;\n",
       "    }\n",
       "\n",
       "    .dataframe thead th {\n",
       "        text-align: right;\n",
       "    }\n",
       "</style>\n",
       "<table border=\"1\" class=\"dataframe\">\n",
       "  <thead>\n",
       "    <tr style=\"text-align: right;\">\n",
       "      <th></th>\n",
       "      <th>review_id</th>\n",
       "      <th>user_id</th>\n",
       "      <th>business_id</th>\n",
       "      <th>stars</th>\n",
       "      <th>useful</th>\n",
       "      <th>funny</th>\n",
       "      <th>cool</th>\n",
       "      <th>text</th>\n",
       "      <th>date</th>\n",
       "    </tr>\n",
       "  </thead>\n",
       "  <tbody>\n",
       "    <tr>\n",
       "      <th>0</th>\n",
       "      <td>KU_O5udG6zpxOg-VcAEodg</td>\n",
       "      <td>mh_-eMZ6K5RLWhZyISBhwA</td>\n",
       "      <td>XQfwVwDr-v0ZS3_CbbE5Xw</td>\n",
       "      <td>3</td>\n",
       "      <td>0</td>\n",
       "      <td>0</td>\n",
       "      <td>0</td>\n",
       "      <td>If you decide to eat here, just be aware it is...</td>\n",
       "      <td>2018-07-07 22:09:11</td>\n",
       "    </tr>\n",
       "  </tbody>\n",
       "</table>\n",
       "</div>"
      ],
      "text/plain": [
       "                review_id                 user_id             business_id  \\\n",
       "0  KU_O5udG6zpxOg-VcAEodg  mh_-eMZ6K5RLWhZyISBhwA  XQfwVwDr-v0ZS3_CbbE5Xw   \n",
       "\n",
       "   stars  useful  funny  cool  \\\n",
       "0      3       0      0     0   \n",
       "\n",
       "                                                text                date  \n",
       "0  If you decide to eat here, just be aware it is... 2018-07-07 22:09:11  "
      ]
     },
     "execution_count": 23,
     "metadata": {},
     "output_type": "execute_result"
    }
   ],
   "source": [
    "df_review.head(1)"
   ]
  },
  {
   "cell_type": "code",
   "execution_count": 24,
   "metadata": {},
   "outputs": [
    {
     "data": {
      "text/plain": [
       "review_id      0\n",
       "user_id        0\n",
       "business_id    0\n",
       "stars          0\n",
       "useful         0\n",
       "funny          0\n",
       "cool           0\n",
       "text           0\n",
       "date           0\n",
       "dtype: int64"
      ]
     },
     "execution_count": 24,
     "metadata": {},
     "output_type": "execute_result"
    }
   ],
   "source": [
    "df_review.isnull().sum()"
   ]
  },
  {
   "cell_type": "code",
   "execution_count": 25,
   "metadata": {},
   "outputs": [
    {
     "data": {
      "text/plain": [
       "Index(['review_id', 'user_id', 'business_id', 'stars', 'useful', 'funny',\n",
       "       'cool', 'text', 'date'],\n",
       "      dtype='object')"
      ]
     },
     "execution_count": 25,
     "metadata": {},
     "output_type": "execute_result"
    }
   ],
   "source": [
    "df_review.columns"
   ]
  },
  {
   "cell_type": "code",
   "execution_count": 26,
   "metadata": {},
   "outputs": [],
   "source": [
    "df_review.drop(columns=['text','date'],axis=1,inplace = True)\n",
    "# dropping the actual review for now as attributes of the text have already been feature engineered\n",
    "# dropping date\n",
    "# dropping review ID as it is not present in any other feature and is just an ID"
   ]
  },
  {
   "cell_type": "code",
   "execution_count": 27,
   "metadata": {},
   "outputs": [
    {
     "data": {
      "text/html": [
       "<div>\n",
       "<style scoped>\n",
       "    .dataframe tbody tr th:only-of-type {\n",
       "        vertical-align: middle;\n",
       "    }\n",
       "\n",
       "    .dataframe tbody tr th {\n",
       "        vertical-align: top;\n",
       "    }\n",
       "\n",
       "    .dataframe thead th {\n",
       "        text-align: right;\n",
       "    }\n",
       "</style>\n",
       "<table border=\"1\" class=\"dataframe\">\n",
       "  <thead>\n",
       "    <tr style=\"text-align: right;\">\n",
       "      <th></th>\n",
       "      <th>review_id</th>\n",
       "      <th>user_id</th>\n",
       "      <th>business_id</th>\n",
       "      <th>stars</th>\n",
       "      <th>useful</th>\n",
       "      <th>funny</th>\n",
       "      <th>cool</th>\n",
       "    </tr>\n",
       "  </thead>\n",
       "  <tbody>\n",
       "  </tbody>\n",
       "</table>\n",
       "</div>"
      ],
      "text/plain": [
       "Empty DataFrame\n",
       "Columns: [review_id, user_id, business_id, stars, useful, funny, cool]\n",
       "Index: []"
      ]
     },
     "execution_count": 27,
     "metadata": {},
     "output_type": "execute_result"
    }
   ],
   "source": [
    "df_review[df_review.duplicated()] # dropping duplicates"
   ]
  },
  {
   "cell_type": "code",
   "execution_count": 28,
   "metadata": {},
   "outputs": [],
   "source": [
    "df_review.drop_duplicates(inplace = True)\n",
    "df_review.reset_index(drop=True,inplace = True)"
   ]
  },
  {
   "cell_type": "code",
   "execution_count": 29,
   "metadata": {},
   "outputs": [
    {
     "name": "stdout",
     "output_type": "stream",
     "text": [
      "<class 'pandas.core.frame.DataFrame'>\n",
      "RangeIndex: 6990280 entries, 0 to 6990279\n",
      "Data columns (total 7 columns):\n",
      " #   Column       Dtype \n",
      "---  ------       ----- \n",
      " 0   review_id    object\n",
      " 1   user_id      object\n",
      " 2   business_id  object\n",
      " 3   stars        int64 \n",
      " 4   useful       int64 \n",
      " 5   funny        int64 \n",
      " 6   cool         int64 \n",
      "dtypes: int64(4), object(3)\n",
      "memory usage: 373.3+ MB\n"
     ]
    }
   ],
   "source": [
    "df_review.info()"
   ]
  },
  {
   "cell_type": "code",
   "execution_count": 30,
   "metadata": {},
   "outputs": [],
   "source": [
    "# reducing the data type to save memory allocation\n",
    "\n",
    "# Convert object columns to category columns\n",
    "for col in df_review.select_dtypes(include='object').columns:\n",
    "    df_review[col] = df_review[col].astype('category')\n"
   ]
  },
  {
   "cell_type": "code",
   "execution_count": 31,
   "metadata": {},
   "outputs": [],
   "source": [
    "# Convert int64 columns to int lower\n",
    "for col in df_review.select_dtypes(include='int64').columns:\n",
    "    df_review[col] = pd.to_numeric(df_review[col], downcast='integer')\n"
   ]
  },
  {
   "cell_type": "code",
   "execution_count": 32,
   "metadata": {},
   "outputs": [
    {
     "name": "stdout",
     "output_type": "stream",
     "text": [
      "<class 'pandas.core.frame.DataFrame'>\n",
      "RangeIndex: 6990280 entries, 0 to 6990279\n",
      "Data columns (total 7 columns):\n",
      " #   Column       Dtype   \n",
      "---  ------       -----   \n",
      " 0   review_id    category\n",
      " 1   user_id      category\n",
      " 2   business_id  category\n",
      " 3   stars        int8    \n",
      " 4   useful       int16   \n",
      " 5   funny        int16   \n",
      " 6   cool         int16   \n",
      "dtypes: category(3), int16(3), int8(1)\n",
      "memory usage: 522.8 MB\n"
     ]
    }
   ],
   "source": [
    "df_review.info()        # data types of the features have been reduced"
   ]
  },
  {
   "cell_type": "code",
   "execution_count": 33,
   "metadata": {},
   "outputs": [],
   "source": [
    "# df_review.to_csv('Yelp_Review.csv',index=False)"
   ]
  },
  {
   "cell_type": "code",
   "execution_count": null,
   "metadata": {},
   "outputs": [],
   "source": []
  },
  {
   "cell_type": "code",
   "execution_count": null,
   "metadata": {},
   "outputs": [],
   "source": []
  },
  {
   "cell_type": "markdown",
   "metadata": {},
   "source": [
    "### Preprocessing User Table"
   ]
  },
  {
   "cell_type": "code",
   "execution_count": 34,
   "metadata": {},
   "outputs": [
    {
     "data": {
      "text/html": [
       "<div>\n",
       "<style scoped>\n",
       "    .dataframe tbody tr th:only-of-type {\n",
       "        vertical-align: middle;\n",
       "    }\n",
       "\n",
       "    .dataframe tbody tr th {\n",
       "        vertical-align: top;\n",
       "    }\n",
       "\n",
       "    .dataframe thead th {\n",
       "        text-align: right;\n",
       "    }\n",
       "</style>\n",
       "<table border=\"1\" class=\"dataframe\">\n",
       "  <thead>\n",
       "    <tr style=\"text-align: right;\">\n",
       "      <th></th>\n",
       "      <th>user_id</th>\n",
       "      <th>name</th>\n",
       "      <th>review_count</th>\n",
       "      <th>yelping_since</th>\n",
       "      <th>useful</th>\n",
       "      <th>funny</th>\n",
       "      <th>cool</th>\n",
       "      <th>elite</th>\n",
       "      <th>friends</th>\n",
       "      <th>fans</th>\n",
       "      <th>...</th>\n",
       "      <th>compliment_more</th>\n",
       "      <th>compliment_profile</th>\n",
       "      <th>compliment_cute</th>\n",
       "      <th>compliment_list</th>\n",
       "      <th>compliment_note</th>\n",
       "      <th>compliment_plain</th>\n",
       "      <th>compliment_cool</th>\n",
       "      <th>compliment_funny</th>\n",
       "      <th>compliment_writer</th>\n",
       "      <th>compliment_photos</th>\n",
       "    </tr>\n",
       "  </thead>\n",
       "  <tbody>\n",
       "    <tr>\n",
       "      <th>0</th>\n",
       "      <td>qVc8ODYU5SZjKXVBgXdI7w</td>\n",
       "      <td>Walker</td>\n",
       "      <td>585</td>\n",
       "      <td>2007-01-25 16:47:26</td>\n",
       "      <td>7217</td>\n",
       "      <td>1259</td>\n",
       "      <td>5994</td>\n",
       "      <td>2007</td>\n",
       "      <td>NSCy54eWehBJyZdG2iE84w, pe42u7DcCH2QmI81NX-8qA...</td>\n",
       "      <td>267</td>\n",
       "      <td>...</td>\n",
       "      <td>65</td>\n",
       "      <td>55</td>\n",
       "      <td>56</td>\n",
       "      <td>18</td>\n",
       "      <td>232</td>\n",
       "      <td>844</td>\n",
       "      <td>467</td>\n",
       "      <td>467</td>\n",
       "      <td>239</td>\n",
       "      <td>180</td>\n",
       "    </tr>\n",
       "  </tbody>\n",
       "</table>\n",
       "<p>1 rows × 22 columns</p>\n",
       "</div>"
      ],
      "text/plain": [
       "                  user_id    name  review_count        yelping_since  useful  \\\n",
       "0  qVc8ODYU5SZjKXVBgXdI7w  Walker           585  2007-01-25 16:47:26    7217   \n",
       "\n",
       "   funny  cool elite                                            friends  fans  \\\n",
       "0   1259  5994  2007  NSCy54eWehBJyZdG2iE84w, pe42u7DcCH2QmI81NX-8qA...   267   \n",
       "\n",
       "   ...  compliment_more  compliment_profile  compliment_cute  compliment_list  \\\n",
       "0  ...               65                  55               56               18   \n",
       "\n",
       "   compliment_note  compliment_plain  compliment_cool  compliment_funny  \\\n",
       "0              232               844              467               467   \n",
       "\n",
       "   compliment_writer  compliment_photos  \n",
       "0                239                180  \n",
       "\n",
       "[1 rows x 22 columns]"
      ]
     },
     "execution_count": 34,
     "metadata": {},
     "output_type": "execute_result"
    }
   ],
   "source": [
    "df_user.head(1)"
   ]
  },
  {
   "cell_type": "code",
   "execution_count": 35,
   "metadata": {},
   "outputs": [
    {
     "data": {
      "text/html": [
       "<div>\n",
       "<style scoped>\n",
       "    .dataframe tbody tr th:only-of-type {\n",
       "        vertical-align: middle;\n",
       "    }\n",
       "\n",
       "    .dataframe tbody tr th {\n",
       "        vertical-align: top;\n",
       "    }\n",
       "\n",
       "    .dataframe thead th {\n",
       "        text-align: right;\n",
       "    }\n",
       "</style>\n",
       "<table border=\"1\" class=\"dataframe\">\n",
       "  <thead>\n",
       "    <tr style=\"text-align: right;\">\n",
       "      <th></th>\n",
       "      <th>user_id</th>\n",
       "      <th>name</th>\n",
       "      <th>review_count</th>\n",
       "      <th>yelping_since</th>\n",
       "      <th>useful</th>\n",
       "      <th>funny</th>\n",
       "      <th>cool</th>\n",
       "      <th>elite</th>\n",
       "      <th>friends</th>\n",
       "      <th>fans</th>\n",
       "      <th>...</th>\n",
       "      <th>compliment_more</th>\n",
       "      <th>compliment_profile</th>\n",
       "      <th>compliment_cute</th>\n",
       "      <th>compliment_list</th>\n",
       "      <th>compliment_note</th>\n",
       "      <th>compliment_plain</th>\n",
       "      <th>compliment_cool</th>\n",
       "      <th>compliment_funny</th>\n",
       "      <th>compliment_writer</th>\n",
       "      <th>compliment_photos</th>\n",
       "    </tr>\n",
       "  </thead>\n",
       "  <tbody>\n",
       "  </tbody>\n",
       "</table>\n",
       "<p>0 rows × 22 columns</p>\n",
       "</div>"
      ],
      "text/plain": [
       "Empty DataFrame\n",
       "Columns: [user_id, name, review_count, yelping_since, useful, funny, cool, elite, friends, fans, average_stars, compliment_hot, compliment_more, compliment_profile, compliment_cute, compliment_list, compliment_note, compliment_plain, compliment_cool, compliment_funny, compliment_writer, compliment_photos]\n",
       "Index: []\n",
       "\n",
       "[0 rows x 22 columns]"
      ]
     },
     "execution_count": 35,
     "metadata": {},
     "output_type": "execute_result"
    }
   ],
   "source": [
    "df_user[df_user.duplicated()] # no duplicates"
   ]
  },
  {
   "cell_type": "code",
   "execution_count": 36,
   "metadata": {},
   "outputs": [
    {
     "data": {
      "text/plain": [
       "user_id               0\n",
       "name                  0\n",
       "review_count          0\n",
       "yelping_since         0\n",
       "useful                0\n",
       "funny                 0\n",
       "cool                  0\n",
       "elite                 0\n",
       "friends               0\n",
       "fans                  0\n",
       "average_stars         0\n",
       "compliment_hot        0\n",
       "compliment_more       0\n",
       "compliment_profile    0\n",
       "compliment_cute       0\n",
       "compliment_list       0\n",
       "compliment_note       0\n",
       "compliment_plain      0\n",
       "compliment_cool       0\n",
       "compliment_funny      0\n",
       "compliment_writer     0\n",
       "compliment_photos     0\n",
       "dtype: int64"
      ]
     },
     "execution_count": 36,
     "metadata": {},
     "output_type": "execute_result"
    }
   ],
   "source": [
    "df_user.isnull().sum()"
   ]
  },
  {
   "cell_type": "code",
   "execution_count": 38,
   "metadata": {},
   "outputs": [
    {
     "data": {
      "text/plain": [
       "Index(['user_id', 'name', 'review_count', 'average_stars'], dtype='object')"
      ]
     },
     "execution_count": 38,
     "metadata": {},
     "output_type": "execute_result"
    }
   ],
   "source": [
    "df_user.columns"
   ]
  },
  {
   "cell_type": "code",
   "execution_count": 37,
   "metadata": {},
   "outputs": [],
   "source": [
    "df_user.drop(columns = ['yelping_since','friends','compliment_hot',\n",
    "       'compliment_more', 'compliment_profile', 'compliment_cute',\n",
    "       'compliment_list', 'compliment_note', 'compliment_plain',\n",
    "       'compliment_cool', 'compliment_funny', 'compliment_writer',\n",
    "       'compliment_photos','fans','elite','useful','funny','cool'],axis=1,inplace = True)\n",
    "\n",
    "# Dropping yelping since as a user's general yelping activity won't be strongly correlated with the business being open or no\n",
    "# dropping friends, fans, elite\n",
    "# dropping the compliments the user has received as that won't be related to if a business is open or not."
   ]
  },
  {
   "cell_type": "code",
   "execution_count": 39,
   "metadata": {},
   "outputs": [
    {
     "name": "stdout",
     "output_type": "stream",
     "text": [
      "<class 'pandas.core.frame.DataFrame'>\n",
      "RangeIndex: 1987897 entries, 0 to 1987896\n",
      "Data columns (total 4 columns):\n",
      " #   Column         Dtype  \n",
      "---  ------         -----  \n",
      " 0   user_id        object \n",
      " 1   name           object \n",
      " 2   review_count   int64  \n",
      " 3   average_stars  float64\n",
      "dtypes: float64(1), int64(1), object(2)\n",
      "memory usage: 60.7+ MB\n"
     ]
    }
   ],
   "source": [
    "df_user.info()"
   ]
  },
  {
   "cell_type": "code",
   "execution_count": 40,
   "metadata": {},
   "outputs": [],
   "source": [
    "# reducing the data type to save memory allocation\n",
    "\n",
    "# Convert object columns to category columns\n",
    "for col in df_user.select_dtypes(include='object').columns:\n",
    "    df_user[col] = df_user[col].astype('category')\n"
   ]
  },
  {
   "cell_type": "code",
   "execution_count": 41,
   "metadata": {},
   "outputs": [],
   "source": [
    "# Convert int64 columns to int lower\n",
    "for col in df_user.select_dtypes(include='int64').columns:\n",
    "    df_user[col] = pd.to_numeric(df_user[col], downcast='integer')\n"
   ]
  },
  {
   "cell_type": "code",
   "execution_count": 42,
   "metadata": {},
   "outputs": [
    {
     "name": "stdout",
     "output_type": "stream",
     "text": [
      "<class 'pandas.core.frame.DataFrame'>\n",
      "RangeIndex: 1987897 entries, 0 to 1987896\n",
      "Data columns (total 4 columns):\n",
      " #   Column         Dtype   \n",
      "---  ------         -----   \n",
      " 0   user_id        category\n",
      " 1   name           category\n",
      " 2   review_count   int16   \n",
      " 3   average_stars  float64 \n",
      "dtypes: category(2), float64(1), int16(1)\n",
      "memory usage: 118.8 MB\n"
     ]
    }
   ],
   "source": [
    "df_user.info()"
   ]
  },
  {
   "cell_type": "code",
   "execution_count": 43,
   "metadata": {},
   "outputs": [],
   "source": [
    "# df_user.to_csv('Yelp_Users.csv',index=False)"
   ]
  },
  {
   "cell_type": "code",
   "execution_count": null,
   "metadata": {},
   "outputs": [],
   "source": []
  },
  {
   "cell_type": "code",
   "execution_count": null,
   "metadata": {},
   "outputs": [],
   "source": []
  },
  {
   "cell_type": "code",
   "execution_count": null,
   "metadata": {},
   "outputs": [],
   "source": []
  },
  {
   "cell_type": "code",
   "execution_count": null,
   "metadata": {},
   "outputs": [],
   "source": []
  },
  {
   "cell_type": "markdown",
   "metadata": {},
   "source": [
    "### Preprocessing Tip Table"
   ]
  },
  {
   "cell_type": "code",
   "execution_count": 44,
   "metadata": {},
   "outputs": [
    {
     "data": {
      "text/html": [
       "<div>\n",
       "<style scoped>\n",
       "    .dataframe tbody tr th:only-of-type {\n",
       "        vertical-align: middle;\n",
       "    }\n",
       "\n",
       "    .dataframe tbody tr th {\n",
       "        vertical-align: top;\n",
       "    }\n",
       "\n",
       "    .dataframe thead th {\n",
       "        text-align: right;\n",
       "    }\n",
       "</style>\n",
       "<table border=\"1\" class=\"dataframe\">\n",
       "  <thead>\n",
       "    <tr style=\"text-align: right;\">\n",
       "      <th></th>\n",
       "      <th>user_id</th>\n",
       "      <th>business_id</th>\n",
       "      <th>text</th>\n",
       "      <th>date</th>\n",
       "      <th>compliment_count</th>\n",
       "    </tr>\n",
       "  </thead>\n",
       "  <tbody>\n",
       "    <tr>\n",
       "      <th>0</th>\n",
       "      <td>AGNUgVwnZUey3gcPCJ76iw</td>\n",
       "      <td>3uLgwr0qeCNMjKenHJwPGQ</td>\n",
       "      <td>Avengers time with the ladies.</td>\n",
       "      <td>2012-05-18 02:17:21</td>\n",
       "      <td>0</td>\n",
       "    </tr>\n",
       "  </tbody>\n",
       "</table>\n",
       "</div>"
      ],
      "text/plain": [
       "                  user_id             business_id  \\\n",
       "0  AGNUgVwnZUey3gcPCJ76iw  3uLgwr0qeCNMjKenHJwPGQ   \n",
       "\n",
       "                             text                date  compliment_count  \n",
       "0  Avengers time with the ladies. 2012-05-18 02:17:21                 0  "
      ]
     },
     "execution_count": 44,
     "metadata": {},
     "output_type": "execute_result"
    }
   ],
   "source": [
    "df_tip.head(1)"
   ]
  },
  {
   "cell_type": "code",
   "execution_count": 45,
   "metadata": {},
   "outputs": [],
   "source": [
    "df_tip[df_tip.duplicated()] # dropping duplicates\n",
    "df_tip.drop_duplicates(inplace = True)\n",
    "df_tip.reset_index(drop=True,inplace = True)"
   ]
  },
  {
   "cell_type": "code",
   "execution_count": 46,
   "metadata": {},
   "outputs": [
    {
     "data": {
      "text/plain": [
       "Index(['user_id', 'business_id', 'text', 'date', 'compliment_count'], dtype='object')"
      ]
     },
     "execution_count": 46,
     "metadata": {},
     "output_type": "execute_result"
    }
   ],
   "source": [
    "df_tip.columns"
   ]
  },
  {
   "cell_type": "code",
   "execution_count": 47,
   "metadata": {},
   "outputs": [
    {
     "data": {
      "text/plain": [
       "user_id             0\n",
       "business_id         0\n",
       "text                0\n",
       "date                0\n",
       "compliment_count    0\n",
       "dtype: int64"
      ]
     },
     "execution_count": 47,
     "metadata": {},
     "output_type": "execute_result"
    }
   ],
   "source": [
    "df_tip.isnull().sum()"
   ]
  },
  {
   "cell_type": "code",
   "execution_count": 48,
   "metadata": {},
   "outputs": [],
   "source": [
    "df_tip.drop(columns = ['text','date'],axis=1,inplace = True)\n",
    "\n",
    "# dropping the actual review text and the date for inital model performance"
   ]
  },
  {
   "cell_type": "code",
   "execution_count": 49,
   "metadata": {},
   "outputs": [],
   "source": [
    "df_tip[df_tip.duplicated()]\n",
    "df_tip.drop_duplicates(inplace = True)\n",
    "df_tip.reset_index(drop=True,inplace = True)"
   ]
  },
  {
   "cell_type": "code",
   "execution_count": 50,
   "metadata": {},
   "outputs": [
    {
     "name": "stdout",
     "output_type": "stream",
     "text": [
      "<class 'pandas.core.frame.DataFrame'>\n",
      "RangeIndex: 787265 entries, 0 to 787264\n",
      "Data columns (total 3 columns):\n",
      " #   Column            Non-Null Count   Dtype \n",
      "---  ------            --------------   ----- \n",
      " 0   user_id           787265 non-null  object\n",
      " 1   business_id       787265 non-null  object\n",
      " 2   compliment_count  787265 non-null  int64 \n",
      "dtypes: int64(1), object(2)\n",
      "memory usage: 18.0+ MB\n"
     ]
    }
   ],
   "source": [
    "df_tip.info()"
   ]
  },
  {
   "cell_type": "code",
   "execution_count": 51,
   "metadata": {},
   "outputs": [],
   "source": [
    "# reducing the data type to save memory allocation\n",
    "\n",
    "# Convert object columns to category columns\n",
    "for col in df_tip.select_dtypes(include='object').columns:\n",
    "    df_tip[col] = df_tip[col].astype('category')\n",
    "\n",
    "# Convert int64 columns to int lower\n",
    "for col in df_tip.select_dtypes(include='int64').columns:\n",
    "    df_tip[col] = pd.to_numeric(df_tip[col], downcast='integer')\n"
   ]
  },
  {
   "cell_type": "code",
   "execution_count": 52,
   "metadata": {},
   "outputs": [
    {
     "name": "stdout",
     "output_type": "stream",
     "text": [
      "<class 'pandas.core.frame.DataFrame'>\n",
      "RangeIndex: 787265 entries, 0 to 787264\n",
      "Data columns (total 3 columns):\n",
      " #   Column            Non-Null Count   Dtype   \n",
      "---  ------            --------------   -----   \n",
      " 0   user_id           787265 non-null  category\n",
      " 1   business_id       787265 non-null  category\n",
      " 2   compliment_count  787265 non-null  int8    \n",
      "dtypes: category(2), int8(1)\n",
      "memory usage: 22.0 MB\n"
     ]
    }
   ],
   "source": [
    "df_tip.info()"
   ]
  },
  {
   "cell_type": "code",
   "execution_count": 53,
   "metadata": {},
   "outputs": [],
   "source": [
    "# df_tip.to_csv('Yelp_Tips.csv',index=False)"
   ]
  },
  {
   "cell_type": "code",
   "execution_count": null,
   "metadata": {},
   "outputs": [],
   "source": []
  },
  {
   "cell_type": "markdown",
   "metadata": {},
   "source": [
    "### Preprocessing CheckIN Table"
   ]
  },
  {
   "cell_type": "code",
   "execution_count": 54,
   "metadata": {},
   "outputs": [],
   "source": [
    "df_checkin.date[0]\n",
    "\n",
    "# Assuming the date is the date when a review was given to that feature. We will be feature engineering the number of reviews\n",
    "\n",
    "def review_count(dates):\n",
    "    return len(dates.split(','))\n",
    "\n",
    "df_checkin['Review_count'] = df_checkin.date.apply(review_count)"
   ]
  },
  {
   "cell_type": "code",
   "execution_count": 55,
   "metadata": {},
   "outputs": [
    {
     "data": {
      "text/html": [
       "<div>\n",
       "<style scoped>\n",
       "    .dataframe tbody tr th:only-of-type {\n",
       "        vertical-align: middle;\n",
       "    }\n",
       "\n",
       "    .dataframe tbody tr th {\n",
       "        vertical-align: top;\n",
       "    }\n",
       "\n",
       "    .dataframe thead th {\n",
       "        text-align: right;\n",
       "    }\n",
       "</style>\n",
       "<table border=\"1\" class=\"dataframe\">\n",
       "  <thead>\n",
       "    <tr style=\"text-align: right;\">\n",
       "      <th></th>\n",
       "      <th>business_id</th>\n",
       "      <th>date</th>\n",
       "      <th>Review_count</th>\n",
       "    </tr>\n",
       "  </thead>\n",
       "  <tbody>\n",
       "  </tbody>\n",
       "</table>\n",
       "</div>"
      ],
      "text/plain": [
       "Empty DataFrame\n",
       "Columns: [business_id, date, Review_count]\n",
       "Index: []"
      ]
     },
     "execution_count": 55,
     "metadata": {},
     "output_type": "execute_result"
    }
   ],
   "source": [
    "df_checkin[df_checkin.duplicated()] # no duplicates"
   ]
  },
  {
   "cell_type": "code",
   "execution_count": 56,
   "metadata": {},
   "outputs": [
    {
     "data": {
      "text/html": [
       "<div>\n",
       "<style scoped>\n",
       "    .dataframe tbody tr th:only-of-type {\n",
       "        vertical-align: middle;\n",
       "    }\n",
       "\n",
       "    .dataframe tbody tr th {\n",
       "        vertical-align: top;\n",
       "    }\n",
       "\n",
       "    .dataframe thead th {\n",
       "        text-align: right;\n",
       "    }\n",
       "</style>\n",
       "<table border=\"1\" class=\"dataframe\">\n",
       "  <thead>\n",
       "    <tr style=\"text-align: right;\">\n",
       "      <th></th>\n",
       "      <th>business_id</th>\n",
       "      <th>date</th>\n",
       "      <th>Review_count</th>\n",
       "    </tr>\n",
       "  </thead>\n",
       "  <tbody>\n",
       "    <tr>\n",
       "      <th>0</th>\n",
       "      <td>---kPU91CF4Lq2-WlRu9Lw</td>\n",
       "      <td>2020-03-13 21:10:56, 2020-06-02 22:18:06, 2020...</td>\n",
       "      <td>11</td>\n",
       "    </tr>\n",
       "  </tbody>\n",
       "</table>\n",
       "</div>"
      ],
      "text/plain": [
       "              business_id                                               date  \\\n",
       "0  ---kPU91CF4Lq2-WlRu9Lw  2020-03-13 21:10:56, 2020-06-02 22:18:06, 2020...   \n",
       "\n",
       "   Review_count  \n",
       "0            11  "
      ]
     },
     "execution_count": 56,
     "metadata": {},
     "output_type": "execute_result"
    }
   ],
   "source": [
    "df_checkin.head(1)"
   ]
  },
  {
   "cell_type": "code",
   "execution_count": 57,
   "metadata": {},
   "outputs": [],
   "source": [
    "# Dropping the feature after feature engineering\n",
    "df_checkin.drop(columns = ['date'],axis=1,inplace = True)"
   ]
  },
  {
   "cell_type": "code",
   "execution_count": 58,
   "metadata": {},
   "outputs": [
    {
     "data": {
      "text/html": [
       "<div>\n",
       "<style scoped>\n",
       "    .dataframe tbody tr th:only-of-type {\n",
       "        vertical-align: middle;\n",
       "    }\n",
       "\n",
       "    .dataframe tbody tr th {\n",
       "        vertical-align: top;\n",
       "    }\n",
       "\n",
       "    .dataframe thead th {\n",
       "        text-align: right;\n",
       "    }\n",
       "</style>\n",
       "<table border=\"1\" class=\"dataframe\">\n",
       "  <thead>\n",
       "    <tr style=\"text-align: right;\">\n",
       "      <th></th>\n",
       "      <th>business_id</th>\n",
       "      <th>Review_count</th>\n",
       "    </tr>\n",
       "  </thead>\n",
       "  <tbody>\n",
       "  </tbody>\n",
       "</table>\n",
       "</div>"
      ],
      "text/plain": [
       "Empty DataFrame\n",
       "Columns: [business_id, Review_count]\n",
       "Index: []"
      ]
     },
     "execution_count": 58,
     "metadata": {},
     "output_type": "execute_result"
    }
   ],
   "source": [
    "df_checkin[df_checkin.duplicated()] # no duplicates"
   ]
  },
  {
   "cell_type": "code",
   "execution_count": 59,
   "metadata": {},
   "outputs": [
    {
     "name": "stdout",
     "output_type": "stream",
     "text": [
      "<class 'pandas.core.frame.DataFrame'>\n",
      "RangeIndex: 131930 entries, 0 to 131929\n",
      "Data columns (total 2 columns):\n",
      " #   Column        Non-Null Count   Dtype \n",
      "---  ------        --------------   ----- \n",
      " 0   business_id   131930 non-null  object\n",
      " 1   Review_count  131930 non-null  int64 \n",
      "dtypes: int64(1), object(1)\n",
      "memory usage: 2.0+ MB\n"
     ]
    }
   ],
   "source": [
    "df_checkin.info()"
   ]
  },
  {
   "cell_type": "code",
   "execution_count": 60,
   "metadata": {},
   "outputs": [],
   "source": [
    "# reducing the data type to save memory allocation\n",
    "\n",
    "# Convert object columns to category columns\n",
    "for col in df_checkin.select_dtypes(include='object').columns:\n",
    "    df_checkin[col] = df_checkin[col].astype('category')\n",
    "\n",
    "# Convert int64 columns to int lower\n",
    "for col in df_checkin.select_dtypes(include='int64').columns:\n",
    "    df_checkin[col] = pd.to_numeric(df_checkin[col], downcast='integer')\n"
   ]
  },
  {
   "cell_type": "code",
   "execution_count": 61,
   "metadata": {},
   "outputs": [
    {
     "name": "stdout",
     "output_type": "stream",
     "text": [
      "<class 'pandas.core.frame.DataFrame'>\n",
      "RangeIndex: 131930 entries, 0 to 131929\n",
      "Data columns (total 2 columns):\n",
      " #   Column        Non-Null Count   Dtype   \n",
      "---  ------        --------------   -----   \n",
      " 0   business_id   131930 non-null  category\n",
      " 1   Review_count  131930 non-null  int32   \n",
      "dtypes: category(1), int32(1)\n",
      "memory usage: 6.0 MB\n"
     ]
    }
   ],
   "source": [
    "df_checkin.info()"
   ]
  },
  {
   "cell_type": "code",
   "execution_count": 62,
   "metadata": {},
   "outputs": [],
   "source": [
    "# df_checkin.to_csv('Yelp_CheckIns.csv',index=False)"
   ]
  },
  {
   "cell_type": "code",
   "execution_count": null,
   "metadata": {},
   "outputs": [],
   "source": []
  },
  {
   "cell_type": "code",
   "execution_count": null,
   "metadata": {},
   "outputs": [],
   "source": []
  },
  {
   "cell_type": "markdown",
   "metadata": {},
   "source": [
    "### Preprocessing Business Table"
   ]
  },
  {
   "cell_type": "code",
   "execution_count": 63,
   "metadata": {},
   "outputs": [
    {
     "data": {
      "text/html": [
       "<div>\n",
       "<style scoped>\n",
       "    .dataframe tbody tr th:only-of-type {\n",
       "        vertical-align: middle;\n",
       "    }\n",
       "\n",
       "    .dataframe tbody tr th {\n",
       "        vertical-align: top;\n",
       "    }\n",
       "\n",
       "    .dataframe thead th {\n",
       "        text-align: right;\n",
       "    }\n",
       "</style>\n",
       "<table border=\"1\" class=\"dataframe\">\n",
       "  <thead>\n",
       "    <tr style=\"text-align: right;\">\n",
       "      <th></th>\n",
       "      <th>business_id</th>\n",
       "      <th>name</th>\n",
       "      <th>address</th>\n",
       "      <th>city</th>\n",
       "      <th>state</th>\n",
       "      <th>postal_code</th>\n",
       "      <th>latitude</th>\n",
       "      <th>longitude</th>\n",
       "      <th>stars</th>\n",
       "      <th>review_count</th>\n",
       "      <th>is_open</th>\n",
       "      <th>attributes</th>\n",
       "      <th>categories</th>\n",
       "      <th>hours</th>\n",
       "    </tr>\n",
       "  </thead>\n",
       "  <tbody>\n",
       "    <tr>\n",
       "      <th>0</th>\n",
       "      <td>Pns2l4eNsfO8kk83dixA6A</td>\n",
       "      <td>Abby Rappoport, LAC, CMQ</td>\n",
       "      <td>1616 Chapala St, Ste 2</td>\n",
       "      <td>Santa Barbara</td>\n",
       "      <td>CA</td>\n",
       "      <td>93101</td>\n",
       "      <td>34.426679</td>\n",
       "      <td>-119.711197</td>\n",
       "      <td>5.0</td>\n",
       "      <td>7</td>\n",
       "      <td>0</td>\n",
       "      <td>{'ByAppointmentOnly': 'True'}</td>\n",
       "      <td>Doctors, Traditional Chinese Medicine, Naturop...</td>\n",
       "      <td>None</td>\n",
       "    </tr>\n",
       "    <tr>\n",
       "      <th>1</th>\n",
       "      <td>mpf3x-BjTdTEA3yCZrAYPw</td>\n",
       "      <td>The UPS Store</td>\n",
       "      <td>87 Grasso Plaza Shopping Center</td>\n",
       "      <td>Affton</td>\n",
       "      <td>MO</td>\n",
       "      <td>63123</td>\n",
       "      <td>38.551126</td>\n",
       "      <td>-90.335695</td>\n",
       "      <td>3.0</td>\n",
       "      <td>15</td>\n",
       "      <td>1</td>\n",
       "      <td>{'BusinessAcceptsCreditCards': 'True'}</td>\n",
       "      <td>Shipping Centers, Local Services, Notaries, Ma...</td>\n",
       "      <td>{'Monday': '0:0-0:0', 'Tuesday': '8:0-18:30', ...</td>\n",
       "    </tr>\n",
       "  </tbody>\n",
       "</table>\n",
       "</div>"
      ],
      "text/plain": [
       "              business_id                      name  \\\n",
       "0  Pns2l4eNsfO8kk83dixA6A  Abby Rappoport, LAC, CMQ   \n",
       "1  mpf3x-BjTdTEA3yCZrAYPw             The UPS Store   \n",
       "\n",
       "                           address           city state postal_code  \\\n",
       "0           1616 Chapala St, Ste 2  Santa Barbara    CA       93101   \n",
       "1  87 Grasso Plaza Shopping Center         Affton    MO       63123   \n",
       "\n",
       "    latitude   longitude  stars  review_count  is_open  \\\n",
       "0  34.426679 -119.711197    5.0             7        0   \n",
       "1  38.551126  -90.335695    3.0            15        1   \n",
       "\n",
       "                               attributes  \\\n",
       "0           {'ByAppointmentOnly': 'True'}   \n",
       "1  {'BusinessAcceptsCreditCards': 'True'}   \n",
       "\n",
       "                                          categories  \\\n",
       "0  Doctors, Traditional Chinese Medicine, Naturop...   \n",
       "1  Shipping Centers, Local Services, Notaries, Ma...   \n",
       "\n",
       "                                               hours  \n",
       "0                                               None  \n",
       "1  {'Monday': '0:0-0:0', 'Tuesday': '8:0-18:30', ...  "
      ]
     },
     "execution_count": 63,
     "metadata": {},
     "output_type": "execute_result"
    }
   ],
   "source": [
    "df_business.head(2)"
   ]
  },
  {
   "cell_type": "code",
   "execution_count": 64,
   "metadata": {},
   "outputs": [
    {
     "data": {
      "text/plain": [
       "Index(['business_id', 'name', 'address', 'city', 'state', 'postal_code',\n",
       "       'latitude', 'longitude', 'stars', 'review_count', 'is_open',\n",
       "       'attributes', 'categories', 'hours'],\n",
       "      dtype='object')"
      ]
     },
     "execution_count": 64,
     "metadata": {},
     "output_type": "execute_result"
    }
   ],
   "source": [
    "df_business.columns"
   ]
  },
  {
   "cell_type": "code",
   "execution_count": 65,
   "metadata": {},
   "outputs": [],
   "source": [
    "df_business.isnull().sum() # dropping null rows\n",
    "\n",
    "df_business.dropna(axis=0,inplace = True)\n",
    "df_business.reset_index(drop=True,inplace=True)"
   ]
  },
  {
   "cell_type": "markdown",
   "metadata": {},
   "source": [
    "#### Handling Attributes"
   ]
  },
  {
   "cell_type": "code",
   "execution_count": 66,
   "metadata": {},
   "outputs": [
    {
     "data": {
      "text/plain": [
       "0                    {'BusinessAcceptsCreditCards': 'True'}\n",
       "1         {'BikeParking': 'True', 'BusinessAcceptsCredit...\n",
       "2         {'RestaurantsDelivery': 'False', 'OutdoorSeati...\n",
       "3         {'BusinessAcceptsCreditCards': 'True', 'Wheelc...\n",
       "4         {'BusinessParking': 'None', 'BusinessAcceptsCr...\n",
       "                                ...                        \n",
       "117613    {'Ambience': '{'touristy': False, 'hipster': F...\n",
       "117614    {'ByAppointmentOnly': 'False', 'RestaurantsPri...\n",
       "117615    {'BusinessAcceptsCreditCards': 'True', 'Restau...\n",
       "117616    {'BusinessParking': '{'garage': False, 'street...\n",
       "117617    {'WheelchairAccessible': 'True', 'BusinessAcce...\n",
       "Name: attributes, Length: 117618, dtype: object"
      ]
     },
     "execution_count": 66,
     "metadata": {},
     "output_type": "execute_result"
    }
   ],
   "source": [
    "df_business.attributes"
   ]
  },
  {
   "cell_type": "code",
   "execution_count": 67,
   "metadata": {},
   "outputs": [
    {
     "data": {
      "text/html": [
       "<div>\n",
       "<style scoped>\n",
       "    .dataframe tbody tr th:only-of-type {\n",
       "        vertical-align: middle;\n",
       "    }\n",
       "\n",
       "    .dataframe tbody tr th {\n",
       "        vertical-align: top;\n",
       "    }\n",
       "\n",
       "    .dataframe thead th {\n",
       "        text-align: right;\n",
       "    }\n",
       "</style>\n",
       "<table border=\"1\" class=\"dataframe\">\n",
       "  <thead>\n",
       "    <tr style=\"text-align: right;\">\n",
       "      <th></th>\n",
       "      <th>BusinessAcceptsCreditCards</th>\n",
       "      <th>BikeParking</th>\n",
       "      <th>RestaurantsPriceRange2</th>\n",
       "      <th>CoatCheck</th>\n",
       "      <th>RestaurantsTakeOut</th>\n",
       "      <th>RestaurantsDelivery</th>\n",
       "      <th>Caters</th>\n",
       "      <th>WiFi</th>\n",
       "      <th>BusinessParking</th>\n",
       "      <th>WheelchairAccessible</th>\n",
       "      <th>...</th>\n",
       "      <th>AcceptsInsurance</th>\n",
       "      <th>BestNights</th>\n",
       "      <th>BYOB</th>\n",
       "      <th>Corkage</th>\n",
       "      <th>BYOBCorkage</th>\n",
       "      <th>HairSpecializesIn</th>\n",
       "      <th>Open24Hours</th>\n",
       "      <th>RestaurantsCounterService</th>\n",
       "      <th>AgesAllowed</th>\n",
       "      <th>DietaryRestrictions</th>\n",
       "    </tr>\n",
       "  </thead>\n",
       "  <tbody>\n",
       "    <tr>\n",
       "      <th>0</th>\n",
       "      <td>True</td>\n",
       "      <td>NaN</td>\n",
       "      <td>NaN</td>\n",
       "      <td>NaN</td>\n",
       "      <td>NaN</td>\n",
       "      <td>NaN</td>\n",
       "      <td>NaN</td>\n",
       "      <td>NaN</td>\n",
       "      <td>NaN</td>\n",
       "      <td>NaN</td>\n",
       "      <td>...</td>\n",
       "      <td>NaN</td>\n",
       "      <td>NaN</td>\n",
       "      <td>NaN</td>\n",
       "      <td>NaN</td>\n",
       "      <td>NaN</td>\n",
       "      <td>NaN</td>\n",
       "      <td>NaN</td>\n",
       "      <td>NaN</td>\n",
       "      <td>NaN</td>\n",
       "      <td>NaN</td>\n",
       "    </tr>\n",
       "    <tr>\n",
       "      <th>1</th>\n",
       "      <td>True</td>\n",
       "      <td>True</td>\n",
       "      <td>2</td>\n",
       "      <td>False</td>\n",
       "      <td>False</td>\n",
       "      <td>False</td>\n",
       "      <td>False</td>\n",
       "      <td>u'no'</td>\n",
       "      <td>{'garage': False, 'street': False, 'validated'...</td>\n",
       "      <td>True</td>\n",
       "      <td>...</td>\n",
       "      <td>NaN</td>\n",
       "      <td>NaN</td>\n",
       "      <td>NaN</td>\n",
       "      <td>NaN</td>\n",
       "      <td>NaN</td>\n",
       "      <td>NaN</td>\n",
       "      <td>NaN</td>\n",
       "      <td>NaN</td>\n",
       "      <td>NaN</td>\n",
       "      <td>NaN</td>\n",
       "    </tr>\n",
       "    <tr>\n",
       "      <th>2</th>\n",
       "      <td>False</td>\n",
       "      <td>True</td>\n",
       "      <td>1</td>\n",
       "      <td>NaN</td>\n",
       "      <td>True</td>\n",
       "      <td>False</td>\n",
       "      <td>True</td>\n",
       "      <td>u'free'</td>\n",
       "      <td>{'garage': False, 'street': True, 'validated':...</td>\n",
       "      <td>NaN</td>\n",
       "      <td>...</td>\n",
       "      <td>NaN</td>\n",
       "      <td>NaN</td>\n",
       "      <td>NaN</td>\n",
       "      <td>NaN</td>\n",
       "      <td>NaN</td>\n",
       "      <td>NaN</td>\n",
       "      <td>NaN</td>\n",
       "      <td>NaN</td>\n",
       "      <td>NaN</td>\n",
       "      <td>NaN</td>\n",
       "    </tr>\n",
       "  </tbody>\n",
       "</table>\n",
       "<p>3 rows × 39 columns</p>\n",
       "</div>"
      ],
      "text/plain": [
       "  BusinessAcceptsCreditCards BikeParking RestaurantsPriceRange2 CoatCheck  \\\n",
       "0                       True         NaN                    NaN       NaN   \n",
       "1                       True        True                      2     False   \n",
       "2                      False        True                      1       NaN   \n",
       "\n",
       "  RestaurantsTakeOut RestaurantsDelivery Caters     WiFi  \\\n",
       "0                NaN                 NaN    NaN      NaN   \n",
       "1              False               False  False    u'no'   \n",
       "2               True               False   True  u'free'   \n",
       "\n",
       "                                     BusinessParking WheelchairAccessible  \\\n",
       "0                                                NaN                  NaN   \n",
       "1  {'garage': False, 'street': False, 'validated'...                 True   \n",
       "2  {'garage': False, 'street': True, 'validated':...                  NaN   \n",
       "\n",
       "   ... AcceptsInsurance BestNights BYOB Corkage BYOBCorkage HairSpecializesIn  \\\n",
       "0  ...              NaN        NaN  NaN     NaN         NaN               NaN   \n",
       "1  ...              NaN        NaN  NaN     NaN         NaN               NaN   \n",
       "2  ...              NaN        NaN  NaN     NaN         NaN               NaN   \n",
       "\n",
       "  Open24Hours RestaurantsCounterService AgesAllowed DietaryRestrictions  \n",
       "0         NaN                       NaN         NaN                 NaN  \n",
       "1         NaN                       NaN         NaN                 NaN  \n",
       "2         NaN                       NaN         NaN                 NaN  \n",
       "\n",
       "[3 rows x 39 columns]"
      ]
     },
     "execution_count": 67,
     "metadata": {},
     "output_type": "execute_result"
    }
   ],
   "source": [
    "df_temp = pd.json_normalize(df_business.attributes)\n",
    "df_temp.head(3)"
   ]
  },
  {
   "cell_type": "code",
   "execution_count": 68,
   "metadata": {},
   "outputs": [],
   "source": [
    "df_business = pd.concat([df_business,df_temp],axis=1)"
   ]
  },
  {
   "cell_type": "code",
   "execution_count": 69,
   "metadata": {},
   "outputs": [],
   "source": [
    "df_business.drop('attributes',axis=1,inplace = True)"
   ]
  },
  {
   "cell_type": "code",
   "execution_count": 70,
   "metadata": {},
   "outputs": [
    {
     "data": {
      "text/plain": [
       "Index(['business_id', 'name', 'address', 'city', 'state', 'postal_code',\n",
       "       'latitude', 'longitude', 'stars', 'review_count', 'is_open',\n",
       "       'categories', 'hours', 'BusinessAcceptsCreditCards', 'BikeParking',\n",
       "       'RestaurantsPriceRange2', 'CoatCheck', 'RestaurantsTakeOut',\n",
       "       'RestaurantsDelivery', 'Caters', 'WiFi', 'BusinessParking',\n",
       "       'WheelchairAccessible', 'HappyHour', 'OutdoorSeating', 'HasTV',\n",
       "       'RestaurantsReservations', 'DogsAllowed', 'ByAppointmentOnly',\n",
       "       'Alcohol', 'GoodForKids', 'RestaurantsAttire', 'Ambience',\n",
       "       'RestaurantsTableService', 'RestaurantsGoodForGroups', 'DriveThru',\n",
       "       'GoodForMeal', 'NoiseLevel', 'BusinessAcceptsBitcoin', 'Smoking',\n",
       "       'Music', 'GoodForDancing', 'AcceptsInsurance', 'BestNights', 'BYOB',\n",
       "       'Corkage', 'BYOBCorkage', 'HairSpecializesIn', 'Open24Hours',\n",
       "       'RestaurantsCounterService', 'AgesAllowed', 'DietaryRestrictions'],\n",
       "      dtype='object')"
      ]
     },
     "execution_count": 70,
     "metadata": {},
     "output_type": "execute_result"
    }
   ],
   "source": [
    "df_business.columns"
   ]
  },
  {
   "cell_type": "code",
   "execution_count": 112,
   "metadata": {},
   "outputs": [],
   "source": [
    "# df_temp.to_csv('temp.csv',index=False)"
   ]
  },
  {
   "cell_type": "code",
   "execution_count": 117,
   "metadata": {},
   "outputs": [],
   "source": [
    "# for col in df_temp.columns.tolist():\n",
    "#     print(df_temp[col].unique())"
   ]
  },
  {
   "cell_type": "code",
   "execution_count": 81,
   "metadata": {},
   "outputs": [
    {
     "data": {
      "text/html": [
       "<div>\n",
       "<style scoped>\n",
       "    .dataframe tbody tr th:only-of-type {\n",
       "        vertical-align: middle;\n",
       "    }\n",
       "\n",
       "    .dataframe tbody tr th {\n",
       "        vertical-align: top;\n",
       "    }\n",
       "\n",
       "    .dataframe thead th {\n",
       "        text-align: right;\n",
       "    }\n",
       "</style>\n",
       "<table border=\"1\" class=\"dataframe\">\n",
       "  <thead>\n",
       "    <tr style=\"text-align: right;\">\n",
       "      <th></th>\n",
       "      <th>Null Percentage</th>\n",
       "    </tr>\n",
       "  </thead>\n",
       "  <tbody>\n",
       "    <tr>\n",
       "      <th>BusinessAcceptsCreditCards</th>\n",
       "      <td>10.407421</td>\n",
       "    </tr>\n",
       "    <tr>\n",
       "      <th>BusinessParking</th>\n",
       "      <td>33.070618</td>\n",
       "    </tr>\n",
       "    <tr>\n",
       "      <th>RestaurantsPriceRange2</th>\n",
       "      <td>37.813090</td>\n",
       "    </tr>\n",
       "    <tr>\n",
       "      <th>BikeParking</th>\n",
       "      <td>44.481287</td>\n",
       "    </tr>\n",
       "    <tr>\n",
       "      <th>RestaurantsTakeOut</th>\n",
       "      <td>55.103811</td>\n",
       "    </tr>\n",
       "    <tr>\n",
       "      <th>WiFi</th>\n",
       "      <td>55.671751</td>\n",
       "    </tr>\n",
       "    <tr>\n",
       "      <th>RestaurantsDelivery</th>\n",
       "      <td>57.520958</td>\n",
       "    </tr>\n",
       "    <tr>\n",
       "      <th>GoodForKids</th>\n",
       "      <td>61.541601</td>\n",
       "    </tr>\n",
       "    <tr>\n",
       "      <th>OutdoorSeating</th>\n",
       "      <td>63.709636</td>\n",
       "    </tr>\n",
       "    <tr>\n",
       "      <th>HasTV</th>\n",
       "      <td>66.067269</td>\n",
       "    </tr>\n",
       "    <tr>\n",
       "      <th>RestaurantsReservations</th>\n",
       "      <td>66.246663</td>\n",
       "    </tr>\n",
       "    <tr>\n",
       "      <th>Ambience</th>\n",
       "      <td>66.839259</td>\n",
       "    </tr>\n",
       "    <tr>\n",
       "      <th>ByAppointmentOnly</th>\n",
       "      <td>67.123229</td>\n",
       "    </tr>\n",
       "    <tr>\n",
       "      <th>RestaurantsGoodForGroups</th>\n",
       "      <td>67.665663</td>\n",
       "    </tr>\n",
       "    <tr>\n",
       "      <th>Alcohol</th>\n",
       "      <td>67.862062</td>\n",
       "    </tr>\n",
       "    <tr>\n",
       "      <th>Caters</th>\n",
       "      <td>68.571137</td>\n",
       "    </tr>\n",
       "    <tr>\n",
       "      <th>RestaurantsAttire</th>\n",
       "      <td>71.181282</td>\n",
       "    </tr>\n",
       "    <tr>\n",
       "      <th>NoiseLevel</th>\n",
       "      <td>71.389583</td>\n",
       "    </tr>\n",
       "    <tr>\n",
       "      <th>WheelchairAccessible</th>\n",
       "      <td>75.959462</td>\n",
       "    </tr>\n",
       "    <tr>\n",
       "      <th>GoodForMeal</th>\n",
       "      <td>76.885341</td>\n",
       "    </tr>\n",
       "    <tr>\n",
       "      <th>RestaurantsTableService</th>\n",
       "      <td>83.749936</td>\n",
       "    </tr>\n",
       "    <tr>\n",
       "      <th>DogsAllowed</th>\n",
       "      <td>84.961485</td>\n",
       "    </tr>\n",
       "    <tr>\n",
       "      <th>BusinessAcceptsBitcoin</th>\n",
       "      <td>85.565135</td>\n",
       "    </tr>\n",
       "    <tr>\n",
       "      <th>HappyHour</th>\n",
       "      <td>87.802887</td>\n",
       "    </tr>\n",
       "    <tr>\n",
       "      <th>DriveThru</th>\n",
       "      <td>93.643830</td>\n",
       "    </tr>\n",
       "    <tr>\n",
       "      <th>Music</th>\n",
       "      <td>94.118247</td>\n",
       "    </tr>\n",
       "    <tr>\n",
       "      <th>BestNights</th>\n",
       "      <td>95.413117</td>\n",
       "    </tr>\n",
       "    <tr>\n",
       "      <th>AcceptsInsurance</th>\n",
       "      <td>95.423320</td>\n",
       "    </tr>\n",
       "    <tr>\n",
       "      <th>CoatCheck</th>\n",
       "      <td>95.434372</td>\n",
       "    </tr>\n",
       "    <tr>\n",
       "      <th>Smoking</th>\n",
       "      <td>96.252274</td>\n",
       "    </tr>\n",
       "    <tr>\n",
       "      <th>GoodForDancing</th>\n",
       "      <td>96.283732</td>\n",
       "    </tr>\n",
       "    <tr>\n",
       "      <th>BYOB</th>\n",
       "      <td>96.289684</td>\n",
       "    </tr>\n",
       "    <tr>\n",
       "      <th>Corkage</th>\n",
       "      <td>97.085480</td>\n",
       "    </tr>\n",
       "    <tr>\n",
       "      <th>BYOBCorkage</th>\n",
       "      <td>98.937237</td>\n",
       "    </tr>\n",
       "    <tr>\n",
       "      <th>HairSpecializesIn</th>\n",
       "      <td>99.114931</td>\n",
       "    </tr>\n",
       "    <tr>\n",
       "      <th>AgesAllowed</th>\n",
       "      <td>99.892023</td>\n",
       "    </tr>\n",
       "    <tr>\n",
       "      <th>Open24Hours</th>\n",
       "      <td>99.966842</td>\n",
       "    </tr>\n",
       "    <tr>\n",
       "      <th>DietaryRestrictions</th>\n",
       "      <td>99.973643</td>\n",
       "    </tr>\n",
       "    <tr>\n",
       "      <th>RestaurantsCounterService</th>\n",
       "      <td>99.984696</td>\n",
       "    </tr>\n",
       "  </tbody>\n",
       "</table>\n",
       "</div>"
      ],
      "text/plain": [
       "                            Null Percentage\n",
       "BusinessAcceptsCreditCards        10.407421\n",
       "BusinessParking                   33.070618\n",
       "RestaurantsPriceRange2            37.813090\n",
       "BikeParking                       44.481287\n",
       "RestaurantsTakeOut                55.103811\n",
       "WiFi                              55.671751\n",
       "RestaurantsDelivery               57.520958\n",
       "GoodForKids                       61.541601\n",
       "OutdoorSeating                    63.709636\n",
       "HasTV                             66.067269\n",
       "RestaurantsReservations           66.246663\n",
       "Ambience                          66.839259\n",
       "ByAppointmentOnly                 67.123229\n",
       "RestaurantsGoodForGroups          67.665663\n",
       "Alcohol                           67.862062\n",
       "Caters                            68.571137\n",
       "RestaurantsAttire                 71.181282\n",
       "NoiseLevel                        71.389583\n",
       "WheelchairAccessible              75.959462\n",
       "GoodForMeal                       76.885341\n",
       "RestaurantsTableService           83.749936\n",
       "DogsAllowed                       84.961485\n",
       "BusinessAcceptsBitcoin            85.565135\n",
       "HappyHour                         87.802887\n",
       "DriveThru                         93.643830\n",
       "Music                             94.118247\n",
       "BestNights                        95.413117\n",
       "AcceptsInsurance                  95.423320\n",
       "CoatCheck                         95.434372\n",
       "Smoking                           96.252274\n",
       "GoodForDancing                    96.283732\n",
       "BYOB                              96.289684\n",
       "Corkage                           97.085480\n",
       "BYOBCorkage                       98.937237\n",
       "HairSpecializesIn                 99.114931\n",
       "AgesAllowed                       99.892023\n",
       "Open24Hours                       99.966842\n",
       "DietaryRestrictions               99.973643\n",
       "RestaurantsCounterService         99.984696"
      ]
     },
     "execution_count": 81,
     "metadata": {},
     "output_type": "execute_result"
    }
   ],
   "source": [
    "null_data = pd.DataFrame((df_business.isnull().sum()*100)/df_business.shape[0],columns=['Null Percentage'])\n",
    "null_data[null_data['Null Percentage']!=0].sort_values('Null Percentage',ascending = True)"
   ]
  },
  {
   "cell_type": "code",
   "execution_count": 169,
   "metadata": {},
   "outputs": [
    {
     "data": {
      "text/html": [
       "<div>\n",
       "<style scoped>\n",
       "    .dataframe tbody tr th:only-of-type {\n",
       "        vertical-align: middle;\n",
       "    }\n",
       "\n",
       "    .dataframe tbody tr th {\n",
       "        vertical-align: top;\n",
       "    }\n",
       "\n",
       "    .dataframe thead th {\n",
       "        text-align: right;\n",
       "    }\n",
       "</style>\n",
       "<table border=\"1\" class=\"dataframe\">\n",
       "  <thead>\n",
       "    <tr style=\"text-align: right;\">\n",
       "      <th></th>\n",
       "      <th>business_id</th>\n",
       "      <th>name</th>\n",
       "      <th>address</th>\n",
       "      <th>city</th>\n",
       "      <th>state</th>\n",
       "      <th>postal_code</th>\n",
       "      <th>latitude</th>\n",
       "      <th>longitude</th>\n",
       "      <th>stars</th>\n",
       "      <th>review_count</th>\n",
       "      <th>is_open</th>\n",
       "      <th>categories</th>\n",
       "      <th>hours</th>\n",
       "      <th>BusinessAcceptsCreditCards</th>\n",
       "      <th>BikeParking</th>\n",
       "      <th>RestaurantsPriceRange2</th>\n",
       "      <th>BusinessParking</th>\n",
       "    </tr>\n",
       "  </thead>\n",
       "  <tbody>\n",
       "    <tr>\n",
       "      <th>0</th>\n",
       "      <td>mpf3x-BjTdTEA3yCZrAYPw</td>\n",
       "      <td>The UPS Store</td>\n",
       "      <td>87 Grasso Plaza Shopping Center</td>\n",
       "      <td>Affton</td>\n",
       "      <td>MO</td>\n",
       "      <td>63123</td>\n",
       "      <td>38.551126</td>\n",
       "      <td>-90.335695</td>\n",
       "      <td>3.0</td>\n",
       "      <td>15</td>\n",
       "      <td>1</td>\n",
       "      <td>Shipping Centers, Local Services, Notaries, Ma...</td>\n",
       "      <td>{'Monday': '0:0-0:0', 'Tuesday': '8:0-18:30', ...</td>\n",
       "      <td>True</td>\n",
       "      <td>NaN</td>\n",
       "      <td>NaN</td>\n",
       "      <td>NaN</td>\n",
       "    </tr>\n",
       "  </tbody>\n",
       "</table>\n",
       "</div>"
      ],
      "text/plain": [
       "              business_id           name                          address  \\\n",
       "0  mpf3x-BjTdTEA3yCZrAYPw  The UPS Store  87 Grasso Plaza Shopping Center   \n",
       "\n",
       "     city state postal_code   latitude  longitude  stars  review_count  \\\n",
       "0  Affton    MO       63123  38.551126 -90.335695    3.0            15   \n",
       "\n",
       "   is_open                                         categories  \\\n",
       "0        1  Shipping Centers, Local Services, Notaries, Ma...   \n",
       "\n",
       "                                               hours  \\\n",
       "0  {'Monday': '0:0-0:0', 'Tuesday': '8:0-18:30', ...   \n",
       "\n",
       "  BusinessAcceptsCreditCards BikeParking RestaurantsPriceRange2  \\\n",
       "0                       True         NaN                    NaN   \n",
       "\n",
       "  BusinessParking  \n",
       "0             NaN  "
      ]
     },
     "execution_count": 169,
     "metadata": {},
     "output_type": "execute_result"
    }
   ],
   "source": [
    "# Assuming df is your dataframe\n",
    "threshold = 50\n",
    "selected_columns = df_business.columns[df_business.isnull().mean() * 100 <= threshold]\n",
    "df_business_new = df_business[selected_columns]\n",
    "df_business_new.head(1)"
   ]
  },
  {
   "cell_type": "code",
   "execution_count": 170,
   "metadata": {},
   "outputs": [
    {
     "data": {
      "text/plain": [
       "(117618, 17)"
      ]
     },
     "execution_count": 170,
     "metadata": {},
     "output_type": "execute_result"
    }
   ],
   "source": [
    "df_business_new.shape"
   ]
  },
  {
   "cell_type": "code",
   "execution_count": 171,
   "metadata": {},
   "outputs": [
    {
     "data": {
      "text/plain": [
       "Index(['business_id', 'name', 'address', 'city', 'state', 'postal_code',\n",
       "       'latitude', 'longitude', 'stars', 'review_count', 'is_open',\n",
       "       'categories', 'hours', 'BusinessAcceptsCreditCards', 'BikeParking',\n",
       "       'RestaurantsPriceRange2', 'BusinessParking'],\n",
       "      dtype='object')"
      ]
     },
     "execution_count": 171,
     "metadata": {},
     "output_type": "execute_result"
    }
   ],
   "source": [
    "df_business_new.columns"
   ]
  },
  {
   "cell_type": "code",
   "execution_count": 172,
   "metadata": {},
   "outputs": [
    {
     "data": {
      "text/plain": [
       "BikeParking\n",
       "True     50055\n",
       "False    15181\n",
       "None        64\n",
       "Name: count, dtype: int64"
      ]
     },
     "execution_count": 172,
     "metadata": {},
     "output_type": "execute_result"
    }
   ],
   "source": [
    "df_business_new.BikeParking.value_counts()"
   ]
  },
  {
   "cell_type": "code",
   "execution_count": 173,
   "metadata": {},
   "outputs": [],
   "source": [
    "df_business_new = df_business_new[df_business_new.BikeParking !='None']"
   ]
  },
  {
   "cell_type": "code",
   "execution_count": 174,
   "metadata": {},
   "outputs": [],
   "source": [
    "# df_business_new[df_business_new.BikeParking.isnull()]\n",
    "\n",
    "\n",
    "# Handle this later"
   ]
  },
  {
   "cell_type": "code",
   "execution_count": 175,
   "metadata": {},
   "outputs": [
    {
     "data": {
      "text/plain": [
       "BusinessAcceptsCreditCards\n",
       "True     100600\n",
       "False      4667\n",
       "None         58\n",
       "Name: count, dtype: int64"
      ]
     },
     "execution_count": 175,
     "metadata": {},
     "output_type": "execute_result"
    }
   ],
   "source": [
    "df_business_new.BusinessAcceptsCreditCards.value_counts()"
   ]
  },
  {
   "cell_type": "code",
   "execution_count": 176,
   "metadata": {},
   "outputs": [],
   "source": [
    "df_business_new.BusinessAcceptsCreditCards.replace({'None':'False'},inplace = True)\n",
    "# df_business_new.BusinessAcceptsCreditCards.fillna('False',inplace = True)\n",
    "\n",
    "df_business_new.RestaurantsPriceRange2.replace({'None':0},inplace = True)\n",
    "# df_business_new.RestaurantsPriceRange2.fillna(0,inplace = True)\n",
    "\n",
    "df_business_new.BusinessParking.replace({'None':np.nan},inplace = True)\n",
    "df_business_new.dropna(subset=['BusinessParking'],inplace =True)\n",
    "\n",
    "df_business_new.reset_index(drop=True,inplace=True)"
   ]
  },
  {
   "cell_type": "code",
   "execution_count": 177,
   "metadata": {},
   "outputs": [
    {
     "data": {
      "text/plain": [
       "business_id                       0\n",
       "name                              0\n",
       "address                           0\n",
       "city                              0\n",
       "state                             0\n",
       "postal_code                       0\n",
       "latitude                          0\n",
       "longitude                         0\n",
       "stars                             0\n",
       "review_count                      0\n",
       "is_open                           0\n",
       "categories                        0\n",
       "hours                             0\n",
       "BusinessAcceptsCreditCards        0\n",
       "BikeParking                   15869\n",
       "RestaurantsPriceRange2            0\n",
       "BusinessParking                   0\n",
       "dtype: int64"
      ]
     },
     "execution_count": 177,
     "metadata": {},
     "output_type": "execute_result"
    }
   ],
   "source": [
    "df_business_new.isnull().sum()"
   ]
  },
  {
   "cell_type": "code",
   "execution_count": 178,
   "metadata": {},
   "outputs": [],
   "source": [
    "import ast\n",
    "\n",
    "df_business_new['BusinessParking'] = [ast.literal_eval(item) for item in df_business_new['BusinessParking']]\n",
    "df_business_new1 = pd.json_normalize(df_business_new['BusinessParking'])\n",
    "\n",
    "df_business_new1 = pd.concat([df_business_new,df_business_new1],axis=1)\n",
    "df_business_new1.drop('BusinessParking',axis=1,inplace = True)"
   ]
  },
  {
   "cell_type": "code",
   "execution_count": 188,
   "metadata": {},
   "outputs": [
    {
     "data": {
      "text/plain": [
       "business_id                   0\n",
       "name                          0\n",
       "address                       0\n",
       "city                          0\n",
       "state                         0\n",
       "postal_code                   0\n",
       "latitude                      0\n",
       "longitude                     0\n",
       "stars                         0\n",
       "review_count                  0\n",
       "is_open                       0\n",
       "categories                    0\n",
       "hours                         0\n",
       "BusinessAcceptsCreditCards    0\n",
       "BikeParking                   0\n",
       "RestaurantsPriceRange2        0\n",
       "garage                        0\n",
       "street                        0\n",
       "validated                     0\n",
       "lot                           0\n",
       "valet                         0\n",
       "dtype: int64"
      ]
     },
     "execution_count": 188,
     "metadata": {},
     "output_type": "execute_result"
    }
   ],
   "source": [
    "df_business_new1.isnull().sum()"
   ]
  },
  {
   "cell_type": "code",
   "execution_count": 180,
   "metadata": {},
   "outputs": [],
   "source": [
    "# df_business_new1.garage.fillna(False,inplace = True)\n",
    "# df_business_new1.street.fillna(False,inplace = True)\n",
    "# df_business_new1.validated.fillna(False,inplace = True)\n",
    "# df_business_new1.lot.fillna(True,inplace = True)\n",
    "# df_business_new1.valet.fillna(False,inplace = True)\n"
   ]
  },
  {
   "cell_type": "code",
   "execution_count": 181,
   "metadata": {},
   "outputs": [],
   "source": [
    "df_business_new1.dropna(subset=['garage'],inplace = True)\n",
    "df_business_new1.dropna(subset=['street'],inplace = True)\n",
    "df_business_new1.dropna(subset=['validated'],inplace = True)\n",
    "df_business_new1.dropna(subset=['lot'],inplace = True)\n",
    "df_business_new1.dropna(subset=['valet'],inplace = True)\n",
    "df_business_new1.dropna(subset=['BikeParking'],inplace = True)"
   ]
  },
  {
   "cell_type": "code",
   "execution_count": 203,
   "metadata": {},
   "outputs": [
    {
     "data": {
      "text/plain": [
       "validated\n",
       "0    75813\n",
       "1      811\n",
       "Name: count, dtype: int64"
      ]
     },
     "execution_count": 203,
     "metadata": {},
     "output_type": "execute_result"
    }
   ],
   "source": [
    "df_business_new1.validated.value_counts()"
   ]
  },
  {
   "cell_type": "code",
   "execution_count": 184,
   "metadata": {},
   "outputs": [],
   "source": [
    "# df_business_new1.BikeParking.fillna('True',inplace = True)"
   ]
  },
  {
   "cell_type": "code",
   "execution_count": 187,
   "metadata": {},
   "outputs": [
    {
     "data": {
      "text/html": [
       "<div>\n",
       "<style scoped>\n",
       "    .dataframe tbody tr th:only-of-type {\n",
       "        vertical-align: middle;\n",
       "    }\n",
       "\n",
       "    .dataframe tbody tr th {\n",
       "        vertical-align: top;\n",
       "    }\n",
       "\n",
       "    .dataframe thead th {\n",
       "        text-align: right;\n",
       "    }\n",
       "</style>\n",
       "<table border=\"1\" class=\"dataframe\">\n",
       "  <thead>\n",
       "    <tr style=\"text-align: right;\">\n",
       "      <th></th>\n",
       "      <th>business_id</th>\n",
       "      <th>name</th>\n",
       "      <th>address</th>\n",
       "      <th>city</th>\n",
       "      <th>state</th>\n",
       "      <th>postal_code</th>\n",
       "      <th>latitude</th>\n",
       "      <th>longitude</th>\n",
       "      <th>stars</th>\n",
       "      <th>review_count</th>\n",
       "      <th>...</th>\n",
       "      <th>categories</th>\n",
       "      <th>hours</th>\n",
       "      <th>BusinessAcceptsCreditCards</th>\n",
       "      <th>BikeParking</th>\n",
       "      <th>RestaurantsPriceRange2</th>\n",
       "      <th>garage</th>\n",
       "      <th>street</th>\n",
       "      <th>validated</th>\n",
       "      <th>lot</th>\n",
       "      <th>valet</th>\n",
       "    </tr>\n",
       "  </thead>\n",
       "  <tbody>\n",
       "    <tr>\n",
       "      <th>0</th>\n",
       "      <td>tUFrWirKiKi_TAnsVWINQQ</td>\n",
       "      <td>Target</td>\n",
       "      <td>5255 E Broadway Blvd</td>\n",
       "      <td>Tucson</td>\n",
       "      <td>AZ</td>\n",
       "      <td>85711</td>\n",
       "      <td>32.223236</td>\n",
       "      <td>-110.880452</td>\n",
       "      <td>3.5</td>\n",
       "      <td>22</td>\n",
       "      <td>...</td>\n",
       "      <td>Department Stores, Shopping, Fashion, Home &amp; G...</td>\n",
       "      <td>{'Monday': '8:0-22:0', 'Tuesday': '8:0-22:0', ...</td>\n",
       "      <td>True</td>\n",
       "      <td>True</td>\n",
       "      <td>2</td>\n",
       "      <td>False</td>\n",
       "      <td>False</td>\n",
       "      <td>False</td>\n",
       "      <td>True</td>\n",
       "      <td>False</td>\n",
       "    </tr>\n",
       "    <tr>\n",
       "      <th>1</th>\n",
       "      <td>MTSW4McQd7CbVtyjqoe9mw</td>\n",
       "      <td>St Honore Pastries</td>\n",
       "      <td>935 Race St</td>\n",
       "      <td>Philadelphia</td>\n",
       "      <td>PA</td>\n",
       "      <td>19107</td>\n",
       "      <td>39.955505</td>\n",
       "      <td>-75.155564</td>\n",
       "      <td>4.0</td>\n",
       "      <td>80</td>\n",
       "      <td>...</td>\n",
       "      <td>Restaurants, Food, Bubble Tea, Coffee &amp; Tea, B...</td>\n",
       "      <td>{'Monday': '7:0-20:0', 'Tuesday': '7:0-20:0', ...</td>\n",
       "      <td>False</td>\n",
       "      <td>True</td>\n",
       "      <td>1</td>\n",
       "      <td>False</td>\n",
       "      <td>True</td>\n",
       "      <td>False</td>\n",
       "      <td>False</td>\n",
       "      <td>False</td>\n",
       "    </tr>\n",
       "  </tbody>\n",
       "</table>\n",
       "<p>2 rows × 21 columns</p>\n",
       "</div>"
      ],
      "text/plain": [
       "              business_id                name               address  \\\n",
       "0  tUFrWirKiKi_TAnsVWINQQ              Target  5255 E Broadway Blvd   \n",
       "1  MTSW4McQd7CbVtyjqoe9mw  St Honore Pastries           935 Race St   \n",
       "\n",
       "           city state postal_code   latitude   longitude  stars  review_count  \\\n",
       "0        Tucson    AZ       85711  32.223236 -110.880452    3.5            22   \n",
       "1  Philadelphia    PA       19107  39.955505  -75.155564    4.0            80   \n",
       "\n",
       "   ...                                         categories  \\\n",
       "0  ...  Department Stores, Shopping, Fashion, Home & G...   \n",
       "1  ...  Restaurants, Food, Bubble Tea, Coffee & Tea, B...   \n",
       "\n",
       "                                               hours  \\\n",
       "0  {'Monday': '8:0-22:0', 'Tuesday': '8:0-22:0', ...   \n",
       "1  {'Monday': '7:0-20:0', 'Tuesday': '7:0-20:0', ...   \n",
       "\n",
       "  BusinessAcceptsCreditCards BikeParking RestaurantsPriceRange2 garage  \\\n",
       "0                       True        True                      2  False   \n",
       "1                      False        True                      1  False   \n",
       "\n",
       "   street  validated    lot  valet  \n",
       "0   False      False   True  False  \n",
       "1    True      False  False  False  \n",
       "\n",
       "[2 rows x 21 columns]"
      ]
     },
     "execution_count": 187,
     "metadata": {},
     "output_type": "execute_result"
    }
   ],
   "source": [
    "df_business_new1.head(2)"
   ]
  },
  {
   "cell_type": "code",
   "execution_count": 189,
   "metadata": {},
   "outputs": [],
   "source": [
    "df_business_new1.BusinessAcceptsCreditCards.replace({'False':0,'True':1},inplace = True)\n",
    "df_business_new1.garage.replace({False:int(0),True:int(1)},inplace = True)\n",
    "df_business_new1.street.replace({False:0,True:1},inplace = True)\n",
    "df_business_new1.validated.replace({False:0,True:1},inplace = True)\n",
    "df_business_new1.lot.replace({False:0,True:1},inplace = True)\n",
    "df_business_new1.valet.replace({False:0,True:1},inplace = True)\n",
    "\n"
   ]
  },
  {
   "cell_type": "code",
   "execution_count": 190,
   "metadata": {},
   "outputs": [
    {
     "data": {
      "text/plain": [
       "business_id                   0\n",
       "name                          0\n",
       "address                       0\n",
       "city                          0\n",
       "state                         0\n",
       "postal_code                   0\n",
       "latitude                      0\n",
       "longitude                     0\n",
       "stars                         0\n",
       "review_count                  0\n",
       "is_open                       0\n",
       "categories                    0\n",
       "hours                         0\n",
       "BusinessAcceptsCreditCards    0\n",
       "BikeParking                   0\n",
       "RestaurantsPriceRange2        0\n",
       "garage                        0\n",
       "street                        0\n",
       "validated                     0\n",
       "lot                           0\n",
       "valet                         0\n",
       "dtype: int64"
      ]
     },
     "execution_count": 190,
     "metadata": {},
     "output_type": "execute_result"
    }
   ],
   "source": [
    "df_business_new1.isnull().sum()"
   ]
  },
  {
   "cell_type": "code",
   "execution_count": 194,
   "metadata": {},
   "outputs": [],
   "source": [
    "df_business_new1.drop(columns = ['name','address','postal_code','latitude', 'longitude','hours'],axis=1,inplace = True)\n",
    "\n",
    "# name of store is not necessary when we have ID. Similarly for address\n",
    "# Dropping postal code, latitude and longitude. Keeping city and state. As these 5 features will mostly have very high multicollinearity between them which we don't want.\n",
    "# Dropping hours when the business is open or not as well"
   ]
  },
  {
   "cell_type": "code",
   "execution_count": 195,
   "metadata": {},
   "outputs": [
    {
     "data": {
      "text/html": [
       "<div>\n",
       "<style scoped>\n",
       "    .dataframe tbody tr th:only-of-type {\n",
       "        vertical-align: middle;\n",
       "    }\n",
       "\n",
       "    .dataframe tbody tr th {\n",
       "        vertical-align: top;\n",
       "    }\n",
       "\n",
       "    .dataframe thead th {\n",
       "        text-align: right;\n",
       "    }\n",
       "</style>\n",
       "<table border=\"1\" class=\"dataframe\">\n",
       "  <thead>\n",
       "    <tr style=\"text-align: right;\">\n",
       "      <th></th>\n",
       "      <th>business_id</th>\n",
       "      <th>city</th>\n",
       "      <th>state</th>\n",
       "      <th>stars</th>\n",
       "      <th>review_count</th>\n",
       "      <th>is_open</th>\n",
       "      <th>categories</th>\n",
       "      <th>BusinessAcceptsCreditCards</th>\n",
       "      <th>BikeParking</th>\n",
       "      <th>RestaurantsPriceRange2</th>\n",
       "      <th>garage</th>\n",
       "      <th>street</th>\n",
       "      <th>validated</th>\n",
       "      <th>lot</th>\n",
       "      <th>valet</th>\n",
       "    </tr>\n",
       "  </thead>\n",
       "  <tbody>\n",
       "  </tbody>\n",
       "</table>\n",
       "</div>"
      ],
      "text/plain": [
       "Empty DataFrame\n",
       "Columns: [business_id, city, state, stars, review_count, is_open, categories, BusinessAcceptsCreditCards, BikeParking, RestaurantsPriceRange2, garage, street, validated, lot, valet]\n",
       "Index: []"
      ]
     },
     "execution_count": 195,
     "metadata": {},
     "output_type": "execute_result"
    }
   ],
   "source": [
    "df_business_new1[df_business_new1.duplicated()]    # no duplicates"
   ]
  },
  {
   "cell_type": "code",
   "execution_count": 196,
   "metadata": {},
   "outputs": [
    {
     "name": "stdout",
     "output_type": "stream",
     "text": [
      "<class 'pandas.core.frame.DataFrame'>\n",
      "RangeIndex: 76624 entries, 0 to 76623\n",
      "Data columns (total 15 columns):\n",
      " #   Column                      Non-Null Count  Dtype  \n",
      "---  ------                      --------------  -----  \n",
      " 0   business_id                 76624 non-null  object \n",
      " 1   city                        76624 non-null  object \n",
      " 2   state                       76624 non-null  object \n",
      " 3   stars                       76624 non-null  float64\n",
      " 4   review_count                76624 non-null  int64  \n",
      " 5   is_open                     76624 non-null  int64  \n",
      " 6   categories                  76624 non-null  object \n",
      " 7   BusinessAcceptsCreditCards  76624 non-null  int64  \n",
      " 8   BikeParking                 76624 non-null  object \n",
      " 9   RestaurantsPriceRange2      76624 non-null  object \n",
      " 10  garage                      76624 non-null  int64  \n",
      " 11  street                      76624 non-null  int64  \n",
      " 12  validated                   76624 non-null  int64  \n",
      " 13  lot                         76624 non-null  int64  \n",
      " 14  valet                       76624 non-null  int64  \n",
      "dtypes: float64(1), int64(8), object(6)\n",
      "memory usage: 8.8+ MB\n"
     ]
    }
   ],
   "source": [
    "df_business_new1.info()"
   ]
  },
  {
   "cell_type": "code",
   "execution_count": 197,
   "metadata": {},
   "outputs": [],
   "source": [
    "# reducing the data type to save memory allocation\n",
    "\n",
    "# Convert object columns to category columns\n",
    "for col in df_business_new1.select_dtypes(include='object').columns:\n",
    "    df_business_new1[col] = df_business_new1[col].astype('category')\n",
    "\n",
    "# Convert int64 columns to int lower\n",
    "for col in df_business_new1.select_dtypes(include='int64').columns:\n",
    "    df_business_new1[col] = pd.to_numeric(df_business_new1[col], downcast='integer')\n"
   ]
  },
  {
   "cell_type": "code",
   "execution_count": 198,
   "metadata": {},
   "outputs": [
    {
     "name": "stdout",
     "output_type": "stream",
     "text": [
      "<class 'pandas.core.frame.DataFrame'>\n",
      "RangeIndex: 76624 entries, 0 to 76623\n",
      "Data columns (total 15 columns):\n",
      " #   Column                      Non-Null Count  Dtype   \n",
      "---  ------                      --------------  -----   \n",
      " 0   business_id                 76624 non-null  category\n",
      " 1   city                        76624 non-null  category\n",
      " 2   state                       76624 non-null  category\n",
      " 3   stars                       76624 non-null  float64 \n",
      " 4   review_count                76624 non-null  int16   \n",
      " 5   is_open                     76624 non-null  int8    \n",
      " 6   categories                  76624 non-null  category\n",
      " 7   BusinessAcceptsCreditCards  76624 non-null  int8    \n",
      " 8   BikeParking                 76624 non-null  category\n",
      " 9   RestaurantsPriceRange2      76624 non-null  category\n",
      " 10  garage                      76624 non-null  int8    \n",
      " 11  street                      76624 non-null  int8    \n",
      " 12  validated                   76624 non-null  int8    \n",
      " 13  lot                         76624 non-null  int8    \n",
      " 14  valet                       76624 non-null  int8    \n",
      "dtypes: category(6), float64(1), int16(1), int8(7)\n",
      "memory usage: 6.2 MB\n"
     ]
    }
   ],
   "source": [
    "df_business_new1.info()"
   ]
  },
  {
   "cell_type": "code",
   "execution_count": 199,
   "metadata": {},
   "outputs": [
    {
     "data": {
      "text/html": [
       "<div>\n",
       "<style scoped>\n",
       "    .dataframe tbody tr th:only-of-type {\n",
       "        vertical-align: middle;\n",
       "    }\n",
       "\n",
       "    .dataframe tbody tr th {\n",
       "        vertical-align: top;\n",
       "    }\n",
       "\n",
       "    .dataframe thead th {\n",
       "        text-align: right;\n",
       "    }\n",
       "</style>\n",
       "<table border=\"1\" class=\"dataframe\">\n",
       "  <thead>\n",
       "    <tr style=\"text-align: right;\">\n",
       "      <th></th>\n",
       "      <th>business_id</th>\n",
       "      <th>city</th>\n",
       "      <th>state</th>\n",
       "      <th>stars</th>\n",
       "      <th>review_count</th>\n",
       "      <th>is_open</th>\n",
       "      <th>categories</th>\n",
       "      <th>BusinessAcceptsCreditCards</th>\n",
       "      <th>BikeParking</th>\n",
       "      <th>RestaurantsPriceRange2</th>\n",
       "      <th>garage</th>\n",
       "      <th>street</th>\n",
       "      <th>validated</th>\n",
       "      <th>lot</th>\n",
       "      <th>valet</th>\n",
       "    </tr>\n",
       "  </thead>\n",
       "  <tbody>\n",
       "    <tr>\n",
       "      <th>0</th>\n",
       "      <td>tUFrWirKiKi_TAnsVWINQQ</td>\n",
       "      <td>Tucson</td>\n",
       "      <td>AZ</td>\n",
       "      <td>3.5</td>\n",
       "      <td>22</td>\n",
       "      <td>0</td>\n",
       "      <td>Department Stores, Shopping, Fashion, Home &amp; G...</td>\n",
       "      <td>1</td>\n",
       "      <td>True</td>\n",
       "      <td>2</td>\n",
       "      <td>0</td>\n",
       "      <td>0</td>\n",
       "      <td>0</td>\n",
       "      <td>1</td>\n",
       "      <td>0</td>\n",
       "    </tr>\n",
       "    <tr>\n",
       "      <th>1</th>\n",
       "      <td>MTSW4McQd7CbVtyjqoe9mw</td>\n",
       "      <td>Philadelphia</td>\n",
       "      <td>PA</td>\n",
       "      <td>4.0</td>\n",
       "      <td>80</td>\n",
       "      <td>1</td>\n",
       "      <td>Restaurants, Food, Bubble Tea, Coffee &amp; Tea, B...</td>\n",
       "      <td>0</td>\n",
       "      <td>True</td>\n",
       "      <td>1</td>\n",
       "      <td>0</td>\n",
       "      <td>1</td>\n",
       "      <td>0</td>\n",
       "      <td>0</td>\n",
       "      <td>0</td>\n",
       "    </tr>\n",
       "    <tr>\n",
       "      <th>2</th>\n",
       "      <td>mWMc6_wTdE0EUBKIGXDVfA</td>\n",
       "      <td>Green Lane</td>\n",
       "      <td>PA</td>\n",
       "      <td>4.5</td>\n",
       "      <td>13</td>\n",
       "      <td>1</td>\n",
       "      <td>Brewpubs, Breweries, Food</td>\n",
       "      <td>1</td>\n",
       "      <td>True</td>\n",
       "      <td>0</td>\n",
       "      <td>0</td>\n",
       "      <td>0</td>\n",
       "      <td>0</td>\n",
       "      <td>1</td>\n",
       "      <td>0</td>\n",
       "    </tr>\n",
       "    <tr>\n",
       "      <th>3</th>\n",
       "      <td>n_0UpQx1hsNbnPUSlodU8w</td>\n",
       "      <td>Brentwood</td>\n",
       "      <td>MO</td>\n",
       "      <td>2.5</td>\n",
       "      <td>13</td>\n",
       "      <td>1</td>\n",
       "      <td>Sporting Goods, Fashion, Shoe Stores, Shopping...</td>\n",
       "      <td>1</td>\n",
       "      <td>True</td>\n",
       "      <td>2</td>\n",
       "      <td>0</td>\n",
       "      <td>0</td>\n",
       "      <td>0</td>\n",
       "      <td>1</td>\n",
       "      <td>0</td>\n",
       "    </tr>\n",
       "    <tr>\n",
       "      <th>4</th>\n",
       "      <td>bBDDEgkFA1Otx9Lfe7BZUQ</td>\n",
       "      <td>Nashville</td>\n",
       "      <td>TN</td>\n",
       "      <td>1.5</td>\n",
       "      <td>10</td>\n",
       "      <td>1</td>\n",
       "      <td>Ice Cream &amp; Frozen Yogurt, Fast Food, Burgers,...</td>\n",
       "      <td>1</td>\n",
       "      <td>True</td>\n",
       "      <td>1</td>\n",
       "      <td>0</td>\n",
       "      <td>0</td>\n",
       "      <td>0</td>\n",
       "      <td>0</td>\n",
       "      <td>0</td>\n",
       "    </tr>\n",
       "  </tbody>\n",
       "</table>\n",
       "</div>"
      ],
      "text/plain": [
       "              business_id          city state  stars  review_count  is_open  \\\n",
       "0  tUFrWirKiKi_TAnsVWINQQ        Tucson    AZ    3.5            22        0   \n",
       "1  MTSW4McQd7CbVtyjqoe9mw  Philadelphia    PA    4.0            80        1   \n",
       "2  mWMc6_wTdE0EUBKIGXDVfA    Green Lane    PA    4.5            13        1   \n",
       "3  n_0UpQx1hsNbnPUSlodU8w     Brentwood    MO    2.5            13        1   \n",
       "4  bBDDEgkFA1Otx9Lfe7BZUQ     Nashville    TN    1.5            10        1   \n",
       "\n",
       "                                          categories  \\\n",
       "0  Department Stores, Shopping, Fashion, Home & G...   \n",
       "1  Restaurants, Food, Bubble Tea, Coffee & Tea, B...   \n",
       "2                          Brewpubs, Breweries, Food   \n",
       "3  Sporting Goods, Fashion, Shoe Stores, Shopping...   \n",
       "4  Ice Cream & Frozen Yogurt, Fast Food, Burgers,...   \n",
       "\n",
       "   BusinessAcceptsCreditCards BikeParking RestaurantsPriceRange2  garage  \\\n",
       "0                           1        True                      2       0   \n",
       "1                           0        True                      1       0   \n",
       "2                           1        True                      0       0   \n",
       "3                           1        True                      2       0   \n",
       "4                           1        True                      1       0   \n",
       "\n",
       "   street  validated  lot  valet  \n",
       "0       0          0    1      0  \n",
       "1       1          0    0      0  \n",
       "2       0          0    1      0  \n",
       "3       0          0    1      0  \n",
       "4       0          0    0      0  "
      ]
     },
     "execution_count": 199,
     "metadata": {},
     "output_type": "execute_result"
    }
   ],
   "source": [
    "df_business_new1.head()"
   ]
  },
  {
   "cell_type": "code",
   "execution_count": 200,
   "metadata": {},
   "outputs": [],
   "source": [
    "# df_business.to_csv('Yelp_Business.csv',index=False)"
   ]
  },
  {
   "cell_type": "code",
   "execution_count": 201,
   "metadata": {},
   "outputs": [],
   "source": [
    "# df_business_new1.to_csv('Yelp_Business_New.csv',index=False)"
   ]
  },
  {
   "cell_type": "markdown",
   "metadata": {},
   "source": [
    "## TARGET FEATURE"
   ]
  },
  {
   "cell_type": "code",
   "execution_count": 290,
   "metadata": {},
   "outputs": [
    {
     "data": {
      "text/plain": [
       "is_open\n",
       "1    53569\n",
       "0    18352\n",
       "Name: count, dtype: int64"
      ]
     },
     "execution_count": 290,
     "metadata": {},
     "output_type": "execute_result"
    }
   ],
   "source": [
    "df_business_new1['is_open'].value_counts()"
   ]
  },
  {
   "cell_type": "code",
   "execution_count": 202,
   "metadata": {},
   "outputs": [
    {
     "name": "stdout",
     "output_type": "stream",
     "text": [
      "Business DataFrame: (76624, 15)\n",
      "Review DataFrame: (6990280, 7)\n",
      "User DataFrame: (1987897, 4)\n",
      "Tip DataFrame: (787265, 3)\n",
      "Checkin DataFrame: (131930, 2)\n"
     ]
    }
   ],
   "source": [
    "print(\"Business DataFrame:\", df_business_new1.shape)\n",
    "print(\"Review DataFrame:\", df_review.shape)\n",
    "print(\"User DataFrame:\", df_user.shape)\n",
    "print(\"Tip DataFrame:\", df_tip.shape)\n",
    "print(\"Checkin DataFrame:\", df_checkin.shape)\n"
   ]
  },
  {
   "cell_type": "markdown",
   "metadata": {},
   "source": [
    "### Merging data"
   ]
  },
  {
   "cell_type": "markdown",
   "metadata": {},
   "source": [
    "Done on DB browser - mergins_dfs.sql"
   ]
  },
  {
   "cell_type": "code",
   "execution_count": 204,
   "metadata": {},
   "outputs": [
    {
     "name": "stdout",
     "output_type": "stream",
     "text": [
      "(5580595, 26)\n"
     ]
    }
   ],
   "source": [
    "df_final = pd.read_csv('merged_yelp_data_A3.csv')\n",
    "print(df_final.shape)"
   ]
  },
  {
   "cell_type": "code",
   "execution_count": 205,
   "metadata": {},
   "outputs": [
    {
     "data": {
      "text/plain": [
       "business_id                         0\n",
       "city                                0\n",
       "state                               0\n",
       "business_stars                      0\n",
       "business_review_count               0\n",
       "is_open                             0\n",
       "categories                          0\n",
       "BusinessAcceptsCreditCards          0\n",
       "restaurant_price_level              0\n",
       "BikeParking                         0\n",
       "parking_garage                      0\n",
       "parking_street                      0\n",
       "validated_parking                   0\n",
       "lot_parking                         0\n",
       "valet_parking                       0\n",
       "review_id                           0\n",
       "review_stars                        0\n",
       "review_useful                       0\n",
       "review_funny                        0\n",
       "review_cool                         0\n",
       "user_id                             9\n",
       "user_name                          91\n",
       "user_review_count                   9\n",
       "user_average_stars                  9\n",
       "tip_compliment_count          5303415\n",
       "checkin_review_count            18394\n",
       "dtype: int64"
      ]
     },
     "execution_count": 205,
     "metadata": {},
     "output_type": "execute_result"
    }
   ],
   "source": [
    "df_final.isnull().sum()"
   ]
  },
  {
   "cell_type": "markdown",
   "metadata": {},
   "source": [
    "dropping tip_compliment_count"
   ]
  },
  {
   "cell_type": "code",
   "execution_count": 206,
   "metadata": {},
   "outputs": [
    {
     "name": "stdout",
     "output_type": "stream",
     "text": [
      "95.03314610718033\n"
     ]
    }
   ],
   "source": [
    "percentage_null = (100 * df_final['tip_compliment_count'].isnull().sum()) / df_final.shape[0]\n",
    "\n",
    "print(percentage_null)      # dropping this feature as it has 95% null values\n",
    "# df_final.drop('tip_compliment_count',axis=1,inplace = True)\n",
    "df_final.drop('tip_compliment_count',axis=1,inplace = True)"
   ]
  },
  {
   "cell_type": "code",
   "execution_count": 210,
   "metadata": {},
   "outputs": [
    {
     "name": "stdout",
     "output_type": "stream",
     "text": [
      "(5580586, 25)\n"
     ]
    }
   ],
   "source": [
    "df_final = df_final.dropna(subset=['user_id','user_review_count','user_average_stars'],how = 'all')\n",
    "df_final.reset_index(drop=True,inplace = True)\n",
    "print(df_final.shape)"
   ]
  },
  {
   "cell_type": "code",
   "execution_count": 213,
   "metadata": {},
   "outputs": [],
   "source": [
    "df_final.drop('user_name',axis=1,inplace = True)"
   ]
  },
  {
   "cell_type": "code",
   "execution_count": 215,
   "metadata": {},
   "outputs": [
    {
     "data": {
      "text/plain": [
       "(5580586, 24)"
      ]
     },
     "execution_count": 215,
     "metadata": {},
     "output_type": "execute_result"
    }
   ],
   "source": [
    "df_final.reset_index(drop=True,inplace=True)\n",
    "df_final.shape"
   ]
  },
  {
   "cell_type": "code",
   "execution_count": 226,
   "metadata": {},
   "outputs": [
    {
     "data": {
      "text/plain": [
       "business_id                       0\n",
       "city                              0\n",
       "state                             0\n",
       "business_stars                    0\n",
       "business_review_count             0\n",
       "is_open                           0\n",
       "categories                        0\n",
       "BusinessAcceptsCreditCards        0\n",
       "restaurant_price_level            0\n",
       "BikeParking                       0\n",
       "parking_garage                    0\n",
       "parking_street                    0\n",
       "validated_parking                 0\n",
       "lot_parking                       0\n",
       "valet_parking                     0\n",
       "review_id                         0\n",
       "review_stars                      0\n",
       "review_useful                     0\n",
       "review_funny                      0\n",
       "review_cool                       0\n",
       "user_id                           0\n",
       "user_review_count                 0\n",
       "user_average_stars                0\n",
       "checkin_review_count          18394\n",
       "dtype: int64"
      ]
     },
     "execution_count": 226,
     "metadata": {},
     "output_type": "execute_result"
    }
   ],
   "source": [
    "df_final.isnull().sum()"
   ]
  },
  {
   "cell_type": "markdown",
   "metadata": {},
   "source": [
    "### Handling Missing Values after train test split to prevent data leakage"
   ]
  },
  {
   "cell_type": "code",
   "execution_count": 224,
   "metadata": {},
   "outputs": [],
   "source": [
    "df_final = df_final.drop_duplicates(subset=['business_id', 'review_id', 'user_id'])"
   ]
  },
  {
   "cell_type": "code",
   "execution_count": 225,
   "metadata": {},
   "outputs": [
    {
     "data": {
      "text/plain": [
       "(5578603, 24)"
      ]
     },
     "execution_count": 225,
     "metadata": {},
     "output_type": "execute_result"
    }
   ],
   "source": [
    "df_final.shape"
   ]
  },
  {
   "cell_type": "code",
   "execution_count": 233,
   "metadata": {},
   "outputs": [
    {
     "data": {
      "text/plain": [
       "Index(['business_id', 'city', 'state', 'business_stars',\n",
       "       'business_review_count', 'is_open', 'categories',\n",
       "       'BusinessAcceptsCreditCards', 'restaurant_price_level', 'BikeParking',\n",
       "       'parking_garage', 'parking_street', 'validated_parking', 'lot_parking',\n",
       "       'valet_parking', 'review_id', 'review_stars', 'review_useful',\n",
       "       'review_funny', 'review_cool', 'user_id', 'user_review_count',\n",
       "       'user_average_stars', 'checkin_review_count'],\n",
       "      dtype='object')"
      ]
     },
     "execution_count": 233,
     "metadata": {},
     "output_type": "execute_result"
    }
   ],
   "source": [
    "df_final.columns"
   ]
  },
  {
   "cell_type": "code",
   "execution_count": 235,
   "metadata": {},
   "outputs": [
    {
     "name": "stdout",
     "output_type": "stream",
     "text": [
      "X_train shape: (4462882, 23)\n",
      "X_test shape: (1115721, 23)\n",
      "y_train shape: (4462882,)\n",
      "y_test shape: (1115721,)\n"
     ]
    }
   ],
   "source": [
    "X = df_final.drop(columns=['validated_parking'])\n",
    "y = df_final['validated_parking']\n",
    "\n",
    "# Perform train-test split (80% train, 20% test by default)\n",
    "X_train, X_test, y_train, y_test = train_test_split(X, y, test_size=0.2, random_state=100)\n",
    "\n",
    "# Display the shapes of the resulting sets\n",
    "print(f\"X_train shape: {X_train.shape}\")\n",
    "print(f\"X_test shape: {X_test.shape}\")\n",
    "print(f\"y_train shape: {y_train.shape}\")\n",
    "print(f\"y_test shape: {y_test.shape}\")"
   ]
  },
  {
   "cell_type": "code",
   "execution_count": 245,
   "metadata": {},
   "outputs": [
    {
     "data": {
      "text/plain": [
       "business_id                   0\n",
       "city                          0\n",
       "state                         0\n",
       "business_stars                0\n",
       "business_review_count         0\n",
       "is_open                       0\n",
       "categories                    0\n",
       "BusinessAcceptsCreditCards    0\n",
       "restaurant_price_level        0\n",
       "BikeParking                   0\n",
       "parking_garage                0\n",
       "parking_street                0\n",
       "lot_parking                   0\n",
       "valet_parking                 0\n",
       "review_id                     0\n",
       "review_stars                  0\n",
       "review_useful                 0\n",
       "review_funny                  0\n",
       "review_cool                   0\n",
       "user_id                       0\n",
       "user_review_count             0\n",
       "user_average_stars            0\n",
       "checkin_review_count          0\n",
       "dtype: int64"
      ]
     },
     "execution_count": 245,
     "metadata": {},
     "output_type": "execute_result"
    }
   ],
   "source": [
    "X_train.isnull().sum()"
   ]
  },
  {
   "cell_type": "code",
   "execution_count": 238,
   "metadata": {},
   "outputs": [
    {
     "data": {
      "text/plain": [
       "count    4.448283e+06\n",
       "mean     9.144177e+02\n",
       "std      2.170389e+03\n",
       "min      1.000000e+00\n",
       "25%      9.400000e+01\n",
       "50%      3.150000e+02\n",
       "75%      8.940000e+02\n",
       "max      4.010900e+04\n",
       "Name: checkin_review_count, dtype: float64"
      ]
     },
     "execution_count": 238,
     "metadata": {},
     "output_type": "execute_result"
    }
   ],
   "source": [
    "X_train.checkin_review_count.describe()"
   ]
  },
  {
   "cell_type": "markdown",
   "metadata": {},
   "source": [
    "The mean > median - positvely skewed. So, replace missing values with median"
   ]
  },
  {
   "cell_type": "code",
   "execution_count": 239,
   "metadata": {},
   "outputs": [],
   "source": [
    "X_train.checkin_review_count.fillna(X_train.checkin_review_count.median(),inplace = True)"
   ]
  },
  {
   "cell_type": "code",
   "execution_count": 243,
   "metadata": {},
   "outputs": [
    {
     "data": {
      "text/plain": [
       "business_id                   0\n",
       "city                          0\n",
       "state                         0\n",
       "business_stars                0\n",
       "business_review_count         0\n",
       "is_open                       0\n",
       "categories                    0\n",
       "BusinessAcceptsCreditCards    0\n",
       "restaurant_price_level        0\n",
       "BikeParking                   0\n",
       "parking_garage                0\n",
       "parking_street                0\n",
       "lot_parking                   0\n",
       "valet_parking                 0\n",
       "review_id                     0\n",
       "review_stars                  0\n",
       "review_useful                 0\n",
       "review_funny                  0\n",
       "review_cool                   0\n",
       "user_id                       0\n",
       "user_review_count             0\n",
       "user_average_stars            0\n",
       "checkin_review_count          0\n",
       "dtype: int64"
      ]
     },
     "execution_count": 243,
     "metadata": {},
     "output_type": "execute_result"
    }
   ],
   "source": [
    "X_test.isnull().sum()"
   ]
  },
  {
   "cell_type": "code",
   "execution_count": 240,
   "metadata": {},
   "outputs": [
    {
     "data": {
      "text/plain": [
       "count    1.111926e+06\n",
       "mean     9.139782e+02\n",
       "std      2.168039e+03\n",
       "min      1.000000e+00\n",
       "25%      9.400000e+01\n",
       "50%      3.160000e+02\n",
       "75%      8.940000e+02\n",
       "max      4.010900e+04\n",
       "Name: checkin_review_count, dtype: float64"
      ]
     },
     "execution_count": 240,
     "metadata": {},
     "output_type": "execute_result"
    }
   ],
   "source": [
    "X_test.checkin_review_count.describe()"
   ]
  },
  {
   "cell_type": "code",
   "execution_count": 242,
   "metadata": {},
   "outputs": [],
   "source": [
    "X_test.checkin_review_count.fillna(X_test.checkin_review_count.median(),inplace = True)"
   ]
  },
  {
   "cell_type": "code",
   "execution_count": 246,
   "metadata": {},
   "outputs": [
    {
     "name": "stdout",
     "output_type": "stream",
     "text": [
      "X_train shape: (4462882, 23)\n",
      "X_test shape: (1115721, 23)\n",
      "y_train shape: (4462882,)\n",
      "y_test shape: (1115721,)\n"
     ]
    }
   ],
   "source": [
    "print(f\"X_train shape: {X_train.shape}\")\n",
    "print(f\"X_test shape: {X_test.shape}\")\n",
    "print(f\"y_train shape: {y_train.shape}\")\n",
    "print(f\"y_test shape: {y_test.shape}\")"
   ]
  },
  {
   "cell_type": "code",
   "execution_count": 249,
   "metadata": {},
   "outputs": [],
   "source": [
    "X_train.to_csv('X_train.csv',index = False)\n",
    "y_train.to_csv('y_train.csv',index = False)\n",
    "\n",
    "X_test.to_csv('X_test.csv',index = False)\n",
    "y_test.to_csv('y_test.csv',index = False)"
   ]
  },
  {
   "cell_type": "code",
   "execution_count": 251,
   "metadata": {},
   "outputs": [
    {
     "data": {
      "text/plain": [
       "validated_parking\n",
       "0    4345646\n",
       "1     117236\n",
       "Name: count, dtype: int64"
      ]
     },
     "execution_count": 251,
     "metadata": {},
     "output_type": "execute_result"
    }
   ],
   "source": [
    "y_train.value_counts()"
   ]
  },
  {
   "cell_type": "markdown",
   "metadata": {},
   "source": [
    "Missing values handled."
   ]
  },
  {
   "cell_type": "code",
   "execution_count": 248,
   "metadata": {},
   "outputs": [
    {
     "data": {
      "text/plain": [
       "(5578603, 24)"
      ]
     },
     "execution_count": 248,
     "metadata": {},
     "output_type": "execute_result"
    }
   ],
   "source": [
    "# df_final.reset_index(drop=True,inplace=True)\n",
    "\n",
    "# df_final.shape"
   ]
  },
  {
   "cell_type": "code",
   "execution_count": 318,
   "metadata": {},
   "outputs": [],
   "source": [
    "# df_final.to_csv('merged_final_yelp_data_new.csv',index = False)"
   ]
  },
  {
   "cell_type": "code",
   "execution_count": null,
   "metadata": {},
   "outputs": [],
   "source": []
  }
 ],
 "metadata": {
  "kernelspec": {
   "display_name": "yelp_image_models",
   "language": "python",
   "name": "python3"
  },
  "language_info": {
   "codemirror_mode": {
    "name": "ipython",
    "version": 3
   },
   "file_extension": ".py",
   "mimetype": "text/x-python",
   "name": "python",
   "nbconvert_exporter": "python",
   "pygments_lexer": "ipython3",
   "version": "3.12.6"
  }
 },
 "nbformat": 4,
 "nbformat_minor": 2
}
